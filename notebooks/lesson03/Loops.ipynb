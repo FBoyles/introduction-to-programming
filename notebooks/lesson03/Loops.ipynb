{
 "metadata": {
  "language_info": {
   "codemirror_mode": {
    "name": "ipython",
    "version": 3
   },
   "file_extension": ".py",
   "mimetype": "text/x-python",
   "name": "python",
   "nbconvert_exporter": "python",
   "pygments_lexer": "ipython3",
   "version": "3.8.3-final"
  },
  "orig_nbformat": 2,
  "kernelspec": {
   "name": "python3",
   "display_name": "Python 3"
  }
 },
 "nbformat": 4,
 "nbformat_minor": 2,
 "cells": [
  {
   "cell_type": "markdown",
   "metadata": {},
   "source": [
    "# Loops\n",
    "\n",
    "A loop is a block of code that is executed repeatedly until a condition is satisfied. Here we'll look at the two most commonly-used loop structures - the 'while' loop, and the 'for' loop."
   ]
  },
  {
   "cell_type": "markdown",
   "metadata": {},
   "source": [
    "## The while loop\n",
    "\n",
    "A while loop checks if a condition is true, then executes the contents of the loop. If the condition is false, the loop stops without executing, and the interpreter moves on to the next line of code."
   ]
  },
  {
   "cell_type": "code",
   "execution_count": 1,
   "metadata": {
    "tags": []
   },
   "outputs": [
    {
     "output_type": "stream",
     "name": "stdout",
     "text": "0\n1\n2\n3\n4\nDone!\n"
    }
   ],
   "source": [
    "\n",
    "x = 0\n",
    "x_max = 3\n",
    "\n",
    "while x < x_max:\n",
    "    print(x)\n",
    "    x += 1\n",
    "\n",
    "print('Done!')"
   ]
  },
  {
   "cell_type": "markdown",
   "metadata": {},
   "source": [
    "## The for loop\n",
    "\n",
    "A for loop iterates over a range of values, executing the contents of the loop for each value. Once the final value is reached, the loop stops. You can loop over a range of numbers, the characters of a strings, the contents of a list (more on this later). Check out the python docs if you want to learn more about 'iterables'.\n",
    "\n",
    "Here, we use the range() function to generate the range of integers from 0 to 4 - Note that range(0, n) generates the integers 0, 1, ..., n-1."
   ]
  },
  {
   "cell_type": "code",
   "execution_count": null,
   "metadata": {},
   "outputs": [],
   "source": [
    "x_max = 3\n",
    "\n",
    "for x in range(0, x_max):\n",
    "    print(x)\n",
    "\n",
    "print('Done!')"
   ]
  },
  {
   "cell_type": "markdown",
   "metadata": {},
   "source": [
    "## Looping over strings\n",
    "\n",
    "We can use loops to iterate over the characters in a string. With a for loop, we can either use a counter and set the range to the length of the string, or we can directly iterate over the string itself. We can get the length of the string using the len() function. We can access the n-th character in a string, my_string, using my_string\\[n\\]. "
   ]
  },
  {
   "cell_type": "markdown",
   "metadata": {},
   "source": [
    "Let's use a for-loop to compare two strings character by character. Here we loop over the characters in a pair of strings in three different ways.\n",
    "\n",
    "1. Get the length of the shorter string, and loop over that length using a counter.\n",
    "    - We use the min() function to get the length of the shorter string.\n",
    "2. Loop over one of the strings, using the enumerate() function to create and update a counter at each iteration.\n",
    "    - We use the 'break' statement to terminate the loop early if our counter exceeds the length of the shorter string.\n",
    "3. Loop over both strings, using the zip() function to return a pair of characters, one from each string, at the same time.\n",
    "    - The zip() function returns pairs of characters until it reaches the end of the shorter string."
   ]
  },
  {
   "cell_type": "code",
   "execution_count": 48,
   "metadata": {
    "tags": []
   },
   "outputs": [
    {
     "output_type": "stream",
     "name": "stdout",
     "text": "Badger has 6 letters\nCat has 3 letters\nGoat has 4 letters\nChecking if individual characters match.\nLooping over the length of the shortest string.\nCharacter B in Badger does not match C in Cat\nCharacter a in Badger matches a in Cat\nCharacter d in Badger does not match t in Cat\nDone!\nLooping over one string using enumerate().\nCharacter B in Badger does not match C in Cat\nCharacter a in Badger matches a in Cat\nCharacter d in Badger does not match t in Cat\nDone!\nLooping over a pair of strings using zip().\nCharacter B in Badger does not match C in Cat\nCharacter a in Badger matches a in Cat\nCharacter d in Badger does not match t in Cat\nDone!\n"
    }
   ],
   "source": [
    "string_a = \"Badger\"\n",
    "string_b = \"Cat\"\n",
    "string_c = \"Goat\"\n",
    "\n",
    "print(string_a, 'has', len(string_a), 'letters')\n",
    "print(string_b, 'has', len(string_b), 'letters')\n",
    "print(string_c, 'has', len(string_c), 'letters')\n",
    "\t\n",
    "print('Checking if individual characters match.')\n",
    "\n",
    "print(\"Looping over the length of the shortest string.\")\n",
    "length = min(len(string_a), len(string_b))\n",
    "for position in range(0, length):\n",
    "    char_a = string_a[position]\n",
    "    char_b = string_b[position]\n",
    "    if char_a == char_b:\n",
    "        print('Character', char_a, 'in', string_a, 'matches', char_b, 'in', string_b)\n",
    "    else:\n",
    "        print('Character', char_a, 'in', string_a, 'does not match', char_b, 'in', string_b)\n",
    "print('Done!')\n",
    "\n",
    "print('Looping over one string using enumerate().')\n",
    "position = 0\n",
    "for position, char_a in enumerate(string_a):\n",
    "    if position >= len(string_b):\n",
    "        break\n",
    "    char_b = string_b[position]\n",
    "    if char_a == char_b:\n",
    "        print('Character', char_a, 'in', string_a, 'matches', char_b, 'in', string_b)\n",
    "    else:\n",
    "        print('Character', char_a, 'in', string_a, 'does not match', char_b, 'in', string_b)\n",
    "print('Done!')\n",
    "\t\t\n",
    "print('Looping over a pair of strings using zip().')\n",
    "for char_a, char_b in zip(string_a, string_b):\n",
    "    if char_a == char_b:\n",
    "        print('Character', char_a, 'in', string_a, 'matches', char_b, 'in', string_b)\n",
    "    else:\n",
    "        print('Character', char_a, 'in', string_a, 'does not match', char_b, 'in', string_b)\n",
    "print('Done!')"
   ]
  },
  {
   "cell_type": "markdown",
   "metadata": {},
   "source": [
    "## Exercises"
   ]
  },
  {
   "cell_type": "markdown",
   "metadata": {},
   "source": [
    "Write a loop that compares two strings character by character and assigns a similarity score to the strings. Add 1 to the score if two characters match; subtract 1 from the score if two characters do not match. Make a version that is case sensitive, and a version that is case insensitive. "
   ]
  },
  {
   "cell_type": "code",
   "execution_count": 52,
   "metadata": {},
   "outputs": [],
   "source": [
    "string_a = 'Badger'\n",
    "string_b = 'Cat'\n",
    "string_c = 'Goat'"
   ]
  },
  {
   "cell_type": "markdown",
   "metadata": {},
   "source": [
    "The Fibonacci numbers are a sequence of numbers where each number is obtained by adding the previous two numbers. The first two numbers in the sequence are 0 and 1. Write a loop to generate the first 15 numbers of the sequence."
   ]
  },
  {
   "cell_type": "code",
   "execution_count": 51,
   "metadata": {
    "tags": []
   },
   "outputs": [
    {
     "output_type": "stream",
     "name": "stdout",
     "text": "0 1 1\n"
    }
   ],
   "source": [
    "f_n2 = 0\n",
    "f_n1 = 1\n",
    "f_n = f_n2 + f_n1\n",
    "\n",
    "print(f_n2, f_n1, f_n)"
   ]
  },
  {
   "cell_type": "markdown",
   "metadata": {},
   "source": [
    "Write a loop to iterate over a string of characters and extract the hidden message by only printing out those characters that correspond to the 20 standard amino acids.\n"
   ]
  },
  {
   "cell_type": "code",
   "execution_count": 49,
   "metadata": {
    "tags": []
   },
   "outputs": [
    {
     "output_type": "stream",
     "name": "stdout",
     "text": "tbjranosyuluvanianvajmbpiresutzaxsjtueaftershajvoeuaxgeslatuxeraftueragugrxiueuvingsuumelxlyzmen"
    }
   ],
   "source": [
    "horrible_string = \"tbjranosyuluvanianvajmbpiresutzaxsjtueaftershajvoeuaxgeslatuxeraftueragugrxiueuvingsuumelxlyzmen\"\n",
    "\n",
    "for position in range(0, len(horrible_string)):\n",
    "\tprint(horrible_string[position], end='')"
   ]
  },
  {
   "cell_type": "markdown",
   "metadata": {},
   "source": [
    "Here are two amino acid sequences. Write a loop to compare the two sequences character by character. Make sure you account for the fact that the sequences have different lengths!"
   ]
  },
  {
   "cell_type": "code",
   "execution_count": null,
   "metadata": {},
   "outputs": [],
   "source": [
    "sequence_a = 'QIKDLLVSSSTDLDTTLVLVNAIYFKGMWKTAFNAEDTREMPFHVTKQESKPVQMMCMNNSFNVATLPAEKMKILELPFASGDLSMLVLLPDEVSDLERIEKTINFEKLTEWTNPNTMEKRRVKVYLPQMKIEEKYNLTSVLMALGMTDLFIPSANLTGISSAESLKISQAVHGAFMELSEDGIEMAGSTGVIEDIKHSPESEQFRADHPFLFLIKHNPTNTIVYFGRYWSP'\n",
    "\n",
    "sequence_b = 'MMEEYLGVFVDETKEYLQNLNDTLLELEKNPEDMELINEAFRALHTLKGMAGTMGFSSMAKLCHTLENILDKARNSEIKITSDLLDKIFAGVDMITRMVDKIVSEGSDDIGENIDVFSDTIKSFASSGKEKLEHHHHHH'"
   ]
  }
 ]
}