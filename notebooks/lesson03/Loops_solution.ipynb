{
 "metadata": {
  "language_info": {
   "codemirror_mode": {
    "name": "ipython",
    "version": 3
   },
   "file_extension": ".py",
   "mimetype": "text/x-python",
   "name": "python",
   "nbconvert_exporter": "python",
   "pygments_lexer": "ipython3",
   "version": "3.8.3-final"
  },
  "orig_nbformat": 2,
  "kernelspec": {
   "name": "python3",
   "display_name": "Python 3"
  }
 },
 "nbformat": 4,
 "nbformat_minor": 2,
 "cells": [
  {
   "cell_type": "markdown",
   "metadata": {},
   "source": [
    "## Fibonacci sequence\n",
    "\n",
    "Here are two solutions - one using a while loop, and one using a for loop."
   ]
  },
  {
   "cell_type": "code",
   "execution_count": 1,
   "metadata": {
    "tags": []
   },
   "outputs": [
    {
     "output_type": "stream",
     "name": "stdout",
     "text": "0\n1\n1\n2\n3\n5\n8\n13\n21\n34\n55\n89\nDone!\n"
    }
   ],
   "source": [
    "f_n2 = 0\n",
    "f_n1 = 1\n",
    "\n",
    "print(f_n2)\n",
    "print(f_n1)\n",
    "\n",
    "f_n = f_n1 + f_n2\n",
    "while f_n < 100:\n",
    "    print(f_n)\n",
    "    f_n2 = f_n1\n",
    "    f_n1 = f_n\n",
    "    f_n = f_n1 + f_n2\n",
    "print('Done!')"
   ]
  },
  {
   "cell_type": "code",
   "execution_count": 3,
   "metadata": {
    "tags": []
   },
   "outputs": [
    {
     "output_type": "stream",
     "name": "stdout",
     "text": "F0 = 0\nF1 = 1\nF2 = 1\nF3 = 2\nF4 = 3\nF5 = 5\nF6 = 8\nF7 = 13\nF8 = 21\nF9 = 34\nF10 = 55\nF11 = 89\nF12 = 144\nF13 = 233\nF14 = 377\nF15 = 610\n"
    }
   ],
   "source": [
    "f_n2 = 0\n",
    "f_n1 = 1\n",
    "\n",
    "print('F0 =', f_n2)\n",
    "print('F1 =', f_n1)\n",
    "for n in range(2, 16):\n",
    "    f_n = f_n1 + f_n2\n",
    "    print('F'+str(n), '=', f_n)\n",
    "    f_n2 = f_n1\n",
    "    f_n1 = f_n"
   ]
  },
  {
   "cell_type": "markdown",
   "metadata": {},
   "source": [
    "## Amino acids\n",
    "\n",
    "Here's a basic solution, looping over the length of the string and checking if a character corresponds to a standard amino acid."
   ]
  },
  {
   "cell_type": "code",
   "execution_count": null,
   "metadata": {},
   "outputs": [],
   "source": [
    "horrible_string = \"tbjranosyuluvanianvajmbpiresutzaxsjtueaftershajvoeuaxgeslatuxeraftueragugrxiueuvingsuumelxlyzmen\"\n",
    "\n",
    "length = len(horrible_string)\n",
    "\n",
    "print('Looping over string using a counter.')\n",
    "for position in range(0, length):\n",
    "\tif horrible_string[position]  == 'b':\n",
    "\t\tcontinue\n",
    "\tif horrible_string[position]  == 'j':\n",
    "\t\tcontinue\n",
    "\tif horrible_string[position]  == 'o':\n",
    "\t\tcontinue\n",
    "\tif horrible_string[position]  == 'u':\n",
    "\t\tcontinue\n",
    "\tif horrible_string[position]  == 'z':\n",
    "\t\tcontinue\n",
    "\tif horrible_string[position]  == 'x':\n",
    "\t\tcontinue\n",
    "\t\t\n",
    "\telse:\n",
    "\t\tprint(stringOfLetters[position], end='')\n",
    "print()\n",
    "print('Done!')"
   ]
  },
  {
   "cell_type": "markdown",
   "metadata": {},
   "source": [
    "Now let's try looping over the string itself. Here, rather than using multiple if-statements to skip certain characters, we create a string of characters we want to skip, and check if a character belongs to that string using the 'in' operator."
   ]
  },
  {
   "cell_type": "code",
   "execution_count": null,
   "metadata": {},
   "outputs": [],
   "source": [
    "horrible_string = \"tbjranosyuluvanianvajmbpiresutzaxsjtueaftershajvoeuaxgeslatuxeraftueragugrxiueuvingsuumelxlyzmen\"\n",
    "\n",
    "unwanted_letters = 'bjouzx'\n",
    "\n",
    "print('Looping over the characters of a string.')\n",
    "for character in horrible_string:\n",
    "    if character in unwanted_letters:\n",
    "        continue\n",
    "    else:\n",
    "        print(character, end='')\n",
    "print()\n",
    "print('Done!')"
   ]
  },
  {
   "cell_type": "markdown",
   "metadata": {},
   "source": [
    "Alternatively, we can simplify the loop by using the 'not in' operator, which returns True if the character does not belong to the string."
   ]
  },
  {
   "cell_type": "code",
   "execution_count": null,
   "metadata": {},
   "outputs": [],
   "source": [
    "horrible_string = \"tbjranosyuluvanianvajmbpiresutzaxsjtueaftershajvoeuaxgeslatuxeraftueragugrxiueuvingsuumelxlyzmen\"\n",
    "\n",
    "unwanted_letters = 'bjouzx'\n",
    "\n",
    "print('Looping over string using a counter.')\n",
    "for character in horrible_string:\n",
    "    if character not in unwanted_letters:\n",
    "        print(character, end='')\n",
    "print()\n",
    "print('Done!')"
   ]
  }
 ]
}