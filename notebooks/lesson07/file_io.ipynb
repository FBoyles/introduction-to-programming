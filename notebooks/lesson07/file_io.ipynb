{
 "metadata": {
  "language_info": {
   "codemirror_mode": {
    "name": "ipython",
    "version": 3
   },
   "file_extension": ".py",
   "mimetype": "text/x-python",
   "name": "python",
   "nbconvert_exporter": "python",
   "pygments_lexer": "ipython3",
   "version": "3.8.3-final"
  },
  "orig_nbformat": 2,
  "kernelspec": {
   "name": "python3",
   "display_name": "Python 3"
  }
 },
 "nbformat": 4,
 "nbformat_minor": 2,
 "cells": [
  {
   "source": [
    "# File IO\n",
    "\n",
    "This notebook provides an introduction to file input and output (IO). Since we're working in Google Colab, we'll be reading and writing files to our Google Drive, but exactly the same principles apply when reading and writing files to your local file system."
   ],
   "cell_type": "markdown",
   "metadata": {}
  },
  {
   "source": [
    "## Importing files to Google Colab\n",
    "\n",
    "There are two basic ways to access your files from Colab. If your files are already on Google Drive, you can read files from there. If not, you can upload your files directly to Colab. To upload files directly to Colab, we need the 'files' module."
   ],
   "cell_type": "markdown",
   "metadata": {}
  },
  {
   "cell_type": "code",
   "execution_count": null,
   "metadata": {},
   "outputs": [],
   "source": [
    "from google.colab import files\n",
    "\n",
    "my_file = files.upload()"
   ]
  },
  {
   "source": [
    "This will prompt you to select a file from your computer to upload.\n",
    "\n",
    "Rather than uploading each file from our computer to Colab, we can mount our Google Drive then read and write directly to it. When you run this cell, you'll be prompted to authorise Colab to access your drive."
   ],
   "cell_type": "markdown",
   "metadata": {}
  },
  {
   "cell_type": "code",
   "execution_count": null,
   "metadata": {},
   "outputs": [],
   "source": [
    "from google.colab import drive\n",
    "drive.mount('/content/drive')"
   ]
  },
  {
   "source": [
    "Once mounted, the files in your Google Drive will be accessible in the directory \"/content/drive/My Drive\". You can list the contents of your Drive using the notebook command !ls."
   ],
   "cell_type": "markdown",
   "metadata": {}
  },
  {
   "cell_type": "code",
   "execution_count": null,
   "metadata": {},
   "outputs": [],
   "source": [
    "!ls \"/content/drive/My Drive\""
   ]
  },
  {
   "source": [
    "Try creating an empty text file called 'example.txt' in your Drive, then checking that it's visible in Colab."
   ],
   "cell_type": "markdown",
   "metadata": {}
  },
  {
   "source": [
    "### Aside: modules and packages and libraries, oh my!\n",
    "\n",
    "A module is a collection of resources, such as functions, that have been bundled together in a single file. Importing a module in your file makes the contents of that module available for you to use in your code. You've already used a module when you learned about regular expressions - we imported the 're' module, which is part of Python's standard library, to get access to a collection of functions related to regular expressions.\n",
    "\n",
    "Often, multiple related modules will be bundled together so that they can be distributed as a single resource. A collection of modules is known as a package, and is typically the way in which Python resources are distributed.\n",
    "\n",
    "A general collection of resources, such as multiple packages that may or may not be related, is often referred to as a libray. For example, the 'Python standard library' is the collection of all of the default resources that are included with Python. Don't worry if this sounds a bit abstract right now - you'll learn more about using libraries later. \n",
    "\n",
    "In the above cell, 'google' is the top-level package, and 'colab' is a sub-package containing the tools provided by Colab. 'drive' and 'files' are modules in the 'colab' sub-package that contain functionality for reading and writing data on Google Drive or your local system, respectively."
   ],
   "cell_type": "markdown",
   "metadata": {}
  },
  {
   "source": [
    "## Reading a FASTA file\n",
    "\n",
    "Protien sequences can be stored in FASTA format. Each entry starts with a header line, denoted by '>', which contains the name of the protein. The line(s) following the header contain the sequence of the protein. For example:\n",
    "\n",
    "\\>NAME_OF_PROTEIN<br>\n",
    "TRKFLKRIMNVLFRQFVYTVISWPMEKQVYMWFTLASHTPAMWGIWDNGYTKCILVENSLTLYQNKNHNFDDQPMCRWVT<br>\n",
    "WVLHSFTTWNVNMPYVRCQMQTGSEGRITEEPANVLPAQQNHHYAAYDEGTVAKEFGQHDLAEYDHSTVDPYCPTIFNKD<br>\n",
    "MKNLIHTFNASIAFGYHFHVQQSHKPADIGQHWNKKSKPAKFDLMNRWMIMTWTDYQCSYKPIGSATLCEQWFYEWHCFM<br>\n",
    "RWELPIWFAAPNVVVASSPSVQHLGNADIRSIQADYFHLFMGADLCKIKCVMTYIMPKISWVQHYQCCSCAHLKMNPKHY<br>\n",
    "FRKHCWSVMPEHGAVGEDHLDYYEKPWMVIMMPGQGIYWTAEFRTNSTCCWAGAATIDEPYLVLNPTRYSVGLNTMRHNW\n",
    "\n",
    "For the following exercises, you'll need to use the file 'proteins.fasta' from Canvas. We suggest that you upload the file to your Google Drive in advance, and do all of your reading and writing in Google Drive, as it will let you read and write files exactly as if you were working on your computer."
   ],
   "cell_type": "markdown",
   "metadata": {}
  },
  {
   "source": [
    "### Exercise 1\n",
    "\n",
    "Write a function that takes the name of a FASTA file and reads the contents of the file into a string or a list."
   ],
   "cell_type": "markdown",
   "metadata": {}
  },
  {
   "source": [
    "\n",
    "def read_fasta(input_file):\n",
    "    pass\n",
    "\n",
    "read_fasta('/content/drive/My Drive/proteins.fasta')"
   ],
   "cell_type": "code",
   "metadata": {
    "tags": []
   },
   "execution_count": 4,
   "outputs": []
  },
  {
   "source": [
    "### Exercise 2\n",
    "Modify your function to read only the headers from the FASTA file and store the headers in a list - one entry per header."
   ],
   "cell_type": "markdown",
   "metadata": {}
  },
  {
   "source": [
    "### Exercise 3 \n",
    "Modify your function to read the headers and sequences from the FASTA file and store them in a list, in the order that they appear in the file (i.e. \\[header1, sequence1, header2, sequence2, ...\\])."
   ],
   "cell_type": "markdown",
   "metadata": {}
  },
  {
   "source": [
    "### Exercise 4\n",
    "Write a new function that reads the headers and sequences from a FASTA file, and outputs only the first and second proteins to a new FASTA file. You can re-use your read_fasta function to make this simpler."
   ],
   "cell_type": "markdown",
   "metadata": {}
  },
  {
   "cell_type": "code",
   "execution_count": 5,
   "metadata": {},
   "outputs": [],
   "source": [
    "def copy_fasta(input_file, output_file):\n",
    "    pass\n",
    "\n",
    "copy_fasta('/content/drive/My Drive/proteins.fasta', '/content/drive/My Drive/first_two_proteins.fasta')"
   ]
  },
  {
   "source": [
    "## Advanced exercises"
   ],
   "cell_type": "markdown",
   "metadata": {}
  },
  {
   "source": [
    "### Exercise 5\n",
    "\n",
    "Write a program that reads in a FASTA file, and outputs a comma-separated values file (CSV) which has two columns: the header, and the length of the sequence. Make sure to not include any newline characters in your count. The expected content of the output file is:\n",
    "\n",
    "Protein, Count <br>\n",
    "PROTEIN_A, 17<br>\n",
    "PROTEIN_B, 54<br>"
   ],
   "cell_type": "markdown",
   "metadata": {}
  },
  {
   "source": [
    "### Exercise 6\n",
    "\n",
    "Read all the headers and all the sequences and store them in memory. For each sequence, identify the most prevalent amino acid."
   ],
   "cell_type": "markdown",
   "metadata": {}
  },
  {
   "source": [
    "### Exercise 7\n",
    "\n",
    "Long runs of hydrophobic residues are more common in membrane proteins and are found less frequently in soluble proteins \\[[1](https://www.ncbi.nlm.nih.gov/pmc/articles/PMC2242367/)\\].  Write a function that will read a fasta file and determine if a sequence is composed of mainly hydrophobic or mainly polar residues.  There still exists some controversy over which residues are should be considered to be hydrophobic and which should be hydrophilic, so take \\[[2](https://www.sigmaaldrich.com/life-science/metabolomics/learning-center/amino-acid-reference-chart.html)\\] as your baseline. "
   ],
   "cell_type": "markdown",
   "metadata": {}
  },
  {
   "source": [
    "### Exercise 8\n",
    "\n",
    "Modify your solution to Exercise 7 so that it counts how many hydrophobic residues have been found in a row."
   ],
   "cell_type": "markdown",
   "metadata": {}
  },
  {
   "cell_type": "code",
   "execution_count": null,
   "metadata": {},
   "outputs": [],
   "source": []
  }
 ]
}