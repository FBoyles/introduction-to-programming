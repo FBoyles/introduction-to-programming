{
 "metadata": {
  "language_info": {
   "codemirror_mode": {
    "name": "ipython",
    "version": 3
   },
   "file_extension": ".py",
   "mimetype": "text/x-python",
   "name": "python",
   "nbconvert_exporter": "python",
   "pygments_lexer": "ipython3",
   "version": "3.8.3-final"
  },
  "orig_nbformat": 2,
  "kernelspec": {
   "name": "python3",
   "display_name": "Python 3"
  }
 },
 "nbformat": 4,
 "nbformat_minor": 2,
 "cells": [
  {
   "source": [
    "### Mount your Google Drive\n",
    "\n",
    "We'll be working with image files in this notebook. Make sure you mount your Google Drive so that you can use it to store the images."
   ],
   "cell_type": "markdown",
   "metadata": {}
  },
  {
   "cell_type": "code",
   "execution_count": null,
   "metadata": {},
   "outputs": [],
   "source": [
    "from google.colab import drive\n",
    "drive.mount('/content/drive')"
   ]
  },
  {
   "source": [
    "### Reading a PBM image file\n",
    "\n",
    "The PBM format is incredibly inefficient, but also straightforward to interpret. The first line contains a 'magic number' that specifies the file type, the second line contains the resolution of the image, and each of the remaining lines represents a row of the image. Lines starting with a hash, '#', are comments, and do not contain any information about the image. An example PBM file is shown below.\n",
    "\n",
    "P1<br>\n",
    "\\# feep.pbm<br>\n",
    "24 7<br>\n",
    "0 0 0 0 0 0 0 0 0 0 0 0 0 0 0 0 0 0 0 0 0 0 0 0<br>\n",
    "0 1 1 1 1 0 0 1 1 1 1 0 0 1 1 1 1 0 0 1 1 1 1 0<br>\n",
    "0 1 0 0 0 0 0 1 0 0 0 0 0 1 0 0 0 0 0 1 0 0 1 0<br>\n",
    "0 1 1 1 0 0 0 1 1 1 0 0 0 1 1 1 0 0 0 1 1 1 1 0<br>\n",
    "0 1 0 0 0 0 0 1 0 0 0 0 0 1 0 0 0 0 0 1 0 0 0 0<br>\n",
    "0 1 0 0 0 0 0 1 1 1 1 0 0 1 1 1 1 0 0 1 0 0 0 0<br>\n",
    "0 0 0 0 0 0 0 0 0 0 0 0 0 0 0 0 0 0 0 0 0 0 0 0<br>\n",
    "\n"
   ],
   "cell_type": "markdown",
   "metadata": {}
  },
  {
   "source": [
    "### Exercise 1\n",
    "\n",
    "Here is a simple piece of code that uses a loop to parse each line of the PBM file, extracting the image type, image resolution, and bit map image, and storing each in a new variable. Upload the file 'feep.pbm' to your Google Drive, and use this code to load the image. Convince yourself that you understand what's happening in the loop, and add some comments to explain how the file is parsed.\n",
    "\n",
    "Notice that we have 'hard coded' (i.e. explicitly set) lines 0 and 2 as containing the magic number and resolution respectively, on the assumption that line 1 contains a comment. What happens if there is more than one comment, or no comment at all? Modify the code so that it correctly interprets a PBM file with an arbitrary number of comments in the header."
   ],
   "cell_type": "markdown",
   "metadata": {}
  },
  {
   "source": [
    "with open('/content/drive/My Drive/feep.pbm') as f:\n",
    "    lines = []\n",
    "    for line in f:\n",
    "        line = line.strip()\n",
    "        lines.append(line)\n",
    "\n",
    "counter = 0\n",
    "image = []\n",
    "for line in lines:\n",
    "    if counter == 0:\n",
    "        image_type = line\n",
    "        counter += 1\n",
    "    elif line.startswith('#'):\n",
    "        counter += 1\n",
    "    elif counter == 2:\n",
    "        split_line = line.split()\n",
    "        x_resolution = int(split_line[0])\n",
    "        y_resolution = int(split_line[1])\n",
    "        counter += 1\n",
    "    else:\n",
    "        split_line = line.split()\n",
    "        image_row = []\n",
    "        for bit in split_line:\n",
    "            image_line.append(int(bit))\n",
    "        image.append(image_row)\n",
    "\n",
    "print('Image is of type', image_type)\n",
    "print('Image has resolution', x_resolution, 'x', y_resolution)\n",
    "for line in image:\n",
    "    print(line)\n"
   ],
   "cell_type": "code",
   "metadata": {},
   "execution_count": null,
   "outputs": []
  },
  {
   "source": [
    "### Exercise 2\n",
    "\n",
    "Starting with the code in Exercise 1, write a function that loads a PBM file, inverts the image (i.e. converts white pixels to black and vice versa), and writes the resulting image to a new PDB file. Invert feep.pbm and save the inverted image to your Google Drive."
   ],
   "cell_type": "markdown",
   "metadata": {}
  },
  {
   "cell_type": "code",
   "execution_count": null,
   "metadata": {},
   "outputs": [],
   "source": [
    "def invert_pbm(input_file, output_file):\n",
    "    pass"
   ]
  },
  {
   "source": [
    "### Exercise 3 (optional)\n",
    "\n",
    "Extend the code from Exercise 1 to detect whether an image file is PBM (portable bitmap) or PGM (portable greymap) and load the contents of the file."
   ],
   "cell_type": "markdown",
   "metadata": {}
  },
  {
   "source": [
    "\n",
    "### Exercise 4 (optional)\n",
    "\n",
    "The histogram of an image describes the distribution of the various colours within that image. In a PGM file it would display the concentrations of the various values from black (intensity value 0) to white (intensity value 255). \n",
    "\n",
    "# ![title](histogram.png)\n",
    "\n",
    "Write a function that loads a PGM file and calculates the histogram of the image and prints the histogram. You can print either numerical values or ASCII art. Rather than printing in a notebook cell, you can print the output to a file on Google Drive if you like.\n",
    "\n",
    "\n"
   ],
   "cell_type": "markdown",
   "metadata": {}
  },
  {
   "source": [
    "### Exercise 5 (advanced)\n",
    "\n",
    "Having calculated the histogram of the image, render the histogram as an image and write it to a PBM file. "
   ],
   "cell_type": "markdown",
   "metadata": {}
  }
 ]
}