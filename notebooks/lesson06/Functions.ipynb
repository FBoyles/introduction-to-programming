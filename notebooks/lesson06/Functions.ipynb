{
 "metadata": {
  "language_info": {
   "codemirror_mode": {
    "name": "ipython",
    "version": 3
   },
   "file_extension": ".py",
   "mimetype": "text/x-python",
   "name": "python",
   "nbconvert_exporter": "python",
   "pygments_lexer": "ipython3",
   "version": "3.8.3-final"
  },
  "orig_nbformat": 2,
  "kernelspec": {
   "name": "python3",
   "display_name": "Python 3"
  }
 },
 "nbformat": 4,
 "nbformat_minor": 2,
 "cells": [
  {
   "cell_type": "markdown",
   "metadata": {},
   "source": []
  },
  {
   "cell_type": "markdown",
   "metadata": {},
   "source": [
    "#  Functions\n",
    "\n",
    "This notebook provides an introduction to the use of functions in Python. A function is a block of code that is only executed when the function is called. This enables code to be encapsulated and re-used throughout a program."
   ]
  },
  {
   "cell_type": "markdown",
   "metadata": {},
   "source": [
    "### Exercise 1\n",
    "\n",
    "Here's an example function that prints 'Hello, world!' when called. Modify the function to take a name as an argument, and print 'Hello, <name>!'. Next, add a default argument so that the function still prints 'Hello, world!' when no name is provided."
   ]
  },
  {
   "cell_type": "code",
   "execution_count": 1,
   "metadata": {},
   "outputs": [],
   "source": [
    "def hello():\n",
    "    print('Hello, world!')\n",
    "\n",
    "hello()"
   ]
  },
  {
   "cell_type": "markdown",
   "metadata": {},
   "source": [
    "### Exercise 2\n",
    "\n",
    "DNA is composed of four different nucleotides: Cytosine (C); Guanine (G); Adenine (A); and Thymine (T). Write a function that takes a nucleotide symbol (C, G, A, or T) and prints the full name of the nucleotide. Modify your function so that it prints an error message if the user doesn't provide a valid nucleotide symbol."
   ]
  },
  {
   "cell_type": "markdown",
   "metadata": {},
   "source": [
    "### Exercise 3\n",
    " \n",
    "Proteins are made up of long chains of amino acids. There are 20 standard amino acids in the genetic code, each of which is represented by a single character. Starting with the lists of amino acid codes and names below, write a function that takes a single character and returns the name of the corresponding amino acid. Ensure that your function prints an error message if provided with anything other than a valid amino acid symbol."
   ]
  },
  {
   "cell_type": "code",
   "execution_count": null,
   "metadata": {},
   "outputs": [],
   "source": [
    "amino_code_list = ['A','R','N','D','C','Q','E','G','H','I','L','K','M','F','P','S','T','W','Y','V']\n",
    "amino_name_list = [\"Alanine\",\"Arginine\",\"Asparagine\",\"Aspartic Acid\",\"Cysteine\",\"Glutamine\",\"Glutamic Acid\",\"Glycine\",\"Histidine\",\"Isoleucine\",\"Leucine\",\"Lysine\",\"Methionine\",\"Phenylalanine\",\"Proline\",\"Serine\",\"Threonine\",\"Tryptophan\",\"Tyrosine\",\"Valine\"]\n"
   ]
  },
  {
   "cell_type": "markdown",
   "metadata": {},
   "source": [
    "### Exercise 4\n",
    "\n",
    "Write a function that takes two numbers, and raises the first number to the power of the second number. What happens if you try to raise zero to a negetive power?"
   ]
  },
  {
   "cell_type": "markdown",
   "metadata": {},
   "source": [
    "### Exercise 5\n",
    "\n",
    "Write a function that takes a list and returns the mean of the list. Print an informative error message if the list is empty or contains non-numerical values."
   ]
  },
  {
   "cell_type": "markdown",
   "metadata": {},
   "source": [
    "### Exercise 6\n",
    "\n",
    "Here are three amino acid sequences. Write a function that performs an amino acid mutation by replacing all of the alanines with leucines. You could use a loop, or try a regular expression.\n",
    "\n",
    "\n",
    "Sequence 1:\n",
    "AWSYYIGYLRLILPELQARIRTYNQHYNNLLRGAVSQRLYILLPLDCGVPDNLSMADPNIRFLDKLPQQ\n",
    "\n",
    "Sequence 2:\n",
    "TGDRAGIKDRVYSNSIYELLENGQRAGTCVLEYATPLQTLFAMSQYSQAGFSREDRLEQAKLFCRTLEDILADAPESQNN\n",
    "\n",
    "Sequence 3:\n",
    "CRLIAYQEPADDSSFSLSQEVLRHLRQEEKEEVTVGSLKTSAVPSTSTMSQEPELLISGMEKPLPLRTDFSLEHHHHHH"
   ]
  },
  {
   "cell_type": "markdown",
   "metadata": {},
   "source": [
    "### Exercise 7\n",
    "\n",
    "In programming, scope refers to the area of code in which variables are valid and can be accessed. Write a function, and define some variables within the function. Verify that you cannot access these variables from outside the function."
   ]
  },
  {
   "cell_type": "markdown",
   "metadata": {},
   "source": [
    "### Exercise 8\n",
    "\n",
    "Write a function that takes two strings and concatenates them together, returning the resulting string. Modify your function so that you can provide numerical values for one or both arguments and still return a single string.\n"
   ]
  },
  {
   "cell_type": "markdown",
   "metadata": {},
   "source": [
    "### Exercise 9\n",
    "\n",
    "Write a function that calls the function you wrote in Exercise 3 and takes three characters as input, printing the amino acid corresponding to each character. Modify your function so that it takes an amino acid sequence as a string and prints the name of each amino acid in the sequence."
   ]
  },
  {
   "cell_type": "markdown",
   "metadata": {},
   "source": [
    "### Exercise 10\n",
    "\n",
    "Write a function which takes any string as input and returns the number of times you have to write this string in a row for it to go once around the world (in font size ~12). Assume the circumference of the earth is 40,000 km and an average font size 12 character is 3 mm wide.  If you're curious, look for the amino acid sequence of Titin and see how often that needs to be written."
   ]
  },
  {
   "cell_type": "markdown",
   "metadata": {},
   "source": [
    "### Exercise 11 (Advanced)\n",
    "\n",
    "When investigating regions within proteins, it is often helpful to know how common different amino acids are in different areas. For example, pockets which form from hydrophobic amino acids are extremely common in proteins that bind to small ligands. Create a function which takes an amino acid sequence as input (as a string), and prints out the string with the most common amino acid as a different colour. For an example of how to print text in different coours, see e.g. [https://bixense.com/clicolors/](https://bixense.com/clicolors/)."
   ]
  },
  {
   "cell_type": "markdown",
   "metadata": {},
   "source": [
    "### Exercise 12 (Advanced)\n",
    "\n",
    "Transmembrane proteins are proteins that span biological membranes such as the lipid bilayer of a cell. They tend to act as gateways into the cell and are often made up of long alpha-helical structures that span the entire membrane. These structures are (unsurprisingly) called transmembrane helices and tend to be 15-20 amino acids long. To be able to sit inside a membrane such as a lipid bilayer, they must be composed of hydrophobic amino acids.\n",
    "\n",
    "Concatenate the three sequences from Exercise  6 (in the order seq1 → seq2 → seq3). Using the hydrophobicity values for the amino acids provided below, write a function which finds the segment 20 amino acids long which has the highest hydrophobicity. Modify your function to print the sequence with the most hydrophobic section highlighted in a different colour.\n",
    "\n",
    " To check your solution, look up the protein with PDB code 4F5W to see if your segment is an alpha helix."
   ]
  },
  {
   "cell_type": "code",
   "execution_count": 7,
   "metadata": {
    "tags": []
   },
   "outputs": [
    {
     "output_type": "stream",
     "name": "stdout",
     "text": "['A', 'R', 'N', 'D', 'C', 'Q', 'E', 'G', 'H', 'I', 'L', 'K', 'M', 'F', 'P', 'S', 'T', 'W', 'Y', 'V']\n[41, -14, -28, -55, 49, -10, -31, 0, 8, 99, 97, -23, 74, 100, -46, -5, 13, 97, 63, 76]\n"
    }
   ],
   "source": [
    "amino_acid_code_list = ['A', 'R', 'N', 'D', 'C', 'Q', 'E', 'G', 'H', 'I', 'L', 'K', 'M', 'F', 'P', 'S', 'T', 'W', 'Y', 'V']\n",
    "amino_acid_hydrophobicity_list = [41, -14, -28, -55, 49, -10, -31, 0, 8, 99, 97, -23, 74, 100, -46, -5, 13, 97, 63, 76]"
   ]
  },
  {
   "cell_type": "code",
   "execution_count": null,
   "metadata": {},
   "outputs": [],
   "source": []
  }
 ]
}