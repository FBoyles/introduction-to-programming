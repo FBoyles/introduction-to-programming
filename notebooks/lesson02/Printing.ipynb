{
 "metadata": {
  "language_info": {
   "codemirror_mode": {
    "name": "ipython",
    "version": 3
   },
   "file_extension": ".py",
   "mimetype": "text/x-python",
   "name": "python",
   "nbconvert_exporter": "python",
   "pygments_lexer": "ipython3",
   "version": "3.8.3-final"
  },
  "orig_nbformat": 2,
  "kernelspec": {
   "name": "python3",
   "display_name": "Python 3"
  }
 },
 "nbformat": 4,
 "nbformat_minor": 2,
 "cells": [
  {
   "cell_type": "markdown",
   "metadata": {},
   "source": [
    "# Printing and Strings\n",
    "\n",
    "This notebook demonstrates the print function and the use of strings in python."
   ]
  },
  {
   "cell_type": "markdown",
   "metadata": {},
   "source": [
    "## The print function\n",
    "\n",
    "The print() function is used to output strings, either to the terminal or to a file. In a notebook, anything that would be printed to the terminal is instead displayed in the cell output. "
   ]
  },
  {
   "cell_type": "code",
   "execution_count": 20,
   "metadata": {
    "tags": []
   },
   "outputs": [
    {
     "output_type": "stream",
     "name": "stdout",
     "text": "Hello, Colab!\n"
    }
   ],
   "source": [
    "print('Hello, Colab!')"
   ]
  },
  {
   "cell_type": "markdown",
   "metadata": {},
   "source": [
    "In a notebook, if the last line of code in a cell is simply a variable, the value of that variable will be printed to the cell output."
   ]
  },
  {
   "cell_type": "code",
   "execution_count": 21,
   "metadata": {
    "tags": []
   },
   "outputs": [
    {
     "output_type": "execute_result",
     "data": {
      "text/plain": "'Hello, Colab!'"
     },
     "metadata": {},
     "execution_count": 21
    }
   ],
   "source": [
    "'Hello, Colab!'"
   ]
  },
  {
   "cell_type": "markdown",
   "metadata": {},
   "source": [
    "Multiple strings can be printed at once. By default they are separated by a space, but you can specify e.g. newlines using the 'sep' argument."
   ]
  },
  {
   "cell_type": "code",
   "execution_count": 8,
   "metadata": {
    "tags": []
   },
   "outputs": [
    {
     "output_type": "stream",
     "name": "stdout",
     "text": "Hello Colab!\nHello\nColab\nbut\nvertical!\n"
    }
   ],
   "source": [
    "print('Hello', 'Colab!')\n",
    "print('Hello', 'Colab', 'but', 'vertical!', sep='\\n')"
   ]
  },
  {
   "cell_type": "markdown",
   "metadata": {},
   "source": [
    "## Printing numerical values\n",
    "\n",
    "Anything that can be represented as a string can be printed. Python will automatically convert non-string variables to strings before printing."
   ]
  },
  {
   "cell_type": "code",
   "execution_count": 14,
   "metadata": {
    "tags": []
   },
   "outputs": [
    {
     "output_type": "stream",
     "name": "stdout",
     "text": "Printing an integer 7\nPrinting a float 3.14\nPrinting a string 42\n"
    }
   ],
   "source": [
    "an_int = 7\n",
    "a_float = 3.14\n",
    "a_string = '42'\n",
    "\n",
    "print('Printing an integer', an_int)\n",
    "print('Printing a float', a_float)\n",
    "print('Printing a string', a_string)"
   ]
  },
  {
   "cell_type": "markdown",
   "metadata": {},
   "source": [
    "You can also manually convert numerical values to their string representation using str(), and strings of digits to numerical values using int() and float(). Notice that, in the cell output, strings are surrounded by quotation marks."
   ]
  },
  {
   "cell_type": "code",
   "execution_count": 12,
   "metadata": {},
   "outputs": [
    {
     "output_type": "execute_result",
     "data": {
      "text/plain": "'7'"
     },
     "metadata": {},
     "execution_count": 12
    }
   ],
   "source": [
    "str(an_int)"
   ]
  },
  {
   "cell_type": "code",
   "execution_count": 16,
   "metadata": {},
   "outputs": [
    {
     "output_type": "execute_result",
     "data": {
      "text/plain": "'3.14'"
     },
     "metadata": {},
     "execution_count": 16
    }
   ],
   "source": [
    "str(a_float)"
   ]
  },
  {
   "cell_type": "code",
   "execution_count": 15,
   "metadata": {},
   "outputs": [
    {
     "output_type": "execute_result",
     "data": {
      "text/plain": "42"
     },
     "metadata": {},
     "execution_count": 15
    }
   ],
   "source": [
    "int(a_string)"
   ]
  },
  {
   "cell_type": "markdown",
   "metadata": {},
   "source": [
    "## Unicode\n",
    "\n",
    "In python 3, string characters are represented using the [Unicode Standard](https://home.unicode.org/). Each character is represened by a unique code point, ranging from 0 to 0x10FFFF (in hexadecimal). Unlike ASCII, which was used to represent characters in python 2, Unicode has enough code points to represent just about any character you care to imagine - there are over a million possible code points, of which around 140,000 are assigned to a character. \n",
    "\n",
    "You can obtain the Unicode point code of any character using the ord() function, and can convert any int to the corresponding Unicode character using the chr() function. For instance, the character 'a' has a Unicode code point of 97."
   ]
  },
  {
   "cell_type": "code",
   "execution_count": 22,
   "metadata": {},
   "outputs": [
    {
     "output_type": "execute_result",
     "data": {
      "text/plain": "97"
     },
     "metadata": {},
     "execution_count": 22
    }
   ],
   "source": [
    "ord('a')"
   ]
  },
  {
   "cell_type": "code",
   "execution_count": 23,
   "metadata": {},
   "outputs": [
    {
     "output_type": "execute_result",
     "data": {
      "text/plain": "'a'"
     },
     "metadata": {},
     "execution_count": 23
    }
   ],
   "source": [
    "chr(97)"
   ]
  }
 ]
}