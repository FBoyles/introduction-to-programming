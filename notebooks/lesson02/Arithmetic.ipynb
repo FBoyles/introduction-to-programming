{
 "metadata": {
  "language_info": {
   "codemirror_mode": {
    "name": "ipython",
    "version": 3
   },
   "file_extension": ".py",
   "mimetype": "text/x-python",
   "name": "python",
   "nbconvert_exporter": "python",
   "pygments_lexer": "ipython3",
   "version": "3.8.3-final"
  },
  "orig_nbformat": 2,
  "kernelspec": {
   "name": "python3",
   "display_name": "Python 3"
  }
 },
 "nbformat": 4,
 "nbformat_minor": 2,
 "cells": [
  {
   "cell_type": "markdown",
   "metadata": {},
   "source": [
    "# Arithmetic Operators\n",
    "\n",
    "This notebook covers arithmetic operators in python. It also demonstrates casting variables as integers and floats.\n",
    "\n",
    "| Operator | Description |\n",
    "| :-: | :-- |\n",
    "| + | Addition |\n",
    "| - | Subtraction |\n",
    "| * | Multiplication | \n",
    "| / | Division | \n",
    "| // | Floor division |\n",
    "| ** | Exponentiation | \n",
    "| % | Modulus |"
   ]
  },
  {
   "cell_type": "markdown",
   "metadata": {},
   "source": [
    "## Addition and subtraction\n",
    "\n",
    "Addition and subtraction operations behave as we might expect. When one or more operands are floats, python will return the result as a float."
   ]
  },
  {
   "cell_type": "code",
   "execution_count": 1,
   "metadata": {
    "tags": []
   },
   "outputs": [
    {
     "output_type": "stream",
     "name": "stdout",
     "text": "For two ints, 1 + 2 =  3\nFor an int and a float, 1 + 2.0 =  3.0\n"
    }
   ],
   "source": [
    "variable_1 = 1\n",
    "variable_2 = 2\n",
    "\n",
    "print(\"For two ints, 1 + 2 = \", variable_1 + variable_2)\n",
    "\n",
    "variable_1 = 1\n",
    "variable_2 = 2.0\n",
    "print(\"For an int and a float, 1 + 2.0 = \", variable_1 + variable_2)"
   ]
  },
  {
   "cell_type": "markdown",
   "metadata": {},
   "source": [
    "## Multiplication, exponentiation, and order of operations\n",
    "\n",
    "The multiplication operator, *, also behaves as expected. As with addition and subtraction, python will implicitly cast ints to floats if any of the operands are floats."
   ]
  },
  {
   "cell_type": "code",
   "execution_count": 2,
   "metadata": {
    "tags": []
   },
   "outputs": [
    {
     "output_type": "stream",
     "name": "stdout",
     "text": "For two ints, 3 * 5 =  15\nFor an int and a float, 3 * 5.0 =  15.0\n"
    }
   ],
   "source": [
    "variable_1 = 3\n",
    "variable_2 = 5\n",
    "\n",
    "print(\"For two ints, 3 * 5 = \", variable_1 * variable_2)\n",
    "\n",
    "variable_1 = 3\n",
    "variable_3 = 5.0\n",
    "\n",
    "print(\"For an int and a float, 3 * 5.0 = \", variable_1 * variable_3)"
   ]
  },
  {
   "cell_type": "markdown",
   "metadata": {},
   "source": [
    "Python has a built in exponentiation operator, **. This raises its first operand to the power of the second operand. It can also be used with floats to take roots, and negative numbers to take inverses. Note that when taking roots the result will be a float because one of the operands is a float, even if the root is a whole number."
   ]
  },
  {
   "cell_type": "code",
   "execution_count": 3,
   "metadata": {
    "tags": []
   },
   "outputs": [
    {
     "output_type": "stream",
     "name": "stdout",
     "text": "Four to the power of three, 4 ** 3 = 4 * 4 * 4 =  64\nThe square root of four, 4 ** 0.5 =  2.0\nThe inverse square of four, 4 ** -2 = 1 / 4 ** 2 =  0.0625\n"
    }
   ],
   "source": [
    "variable_1 = 4\n",
    "variable_2 = 3\n",
    "\n",
    "print(\"Four to the power of three, 4 ** 3 = 4 * 4 * 4 = \", variable_1 ** variable_2)\n",
    "\n",
    "variable_3 = 0.5\n",
    "print(\"The square root of four, 4 ** 0.5 = \", variable_1 ** variable_3)\n",
    "\n",
    "variable_4 = -2\n",
    "print(\"The inverse square of four, 4 ** -2 = 1 / 4 ** 2 = \", variable_1 ** variable_4)"
   ]
  },
  {
   "cell_type": "markdown",
   "metadata": {},
   "source": [
    "Arithmetic expressions in python conform to mathematical order of operations (BODMAS/PEMDAS).\n",
    "\n",
    "1. exponentiation and root extraction\n",
    "2. multiplication and division\n",
    "3. addition and subtraction\n",
    "\n",
    "Parentheses enforce the order of operations. With a single level of parentheses, operations with equal precedence are performed from left to right."
   ]
  },
  {
   "cell_type": "code",
   "execution_count": 4,
   "metadata": {
    "tags": []
   },
   "outputs": [
    {
     "output_type": "stream",
     "name": "stdout",
     "text": "Multiplication takes precedence over addition: 3 + 5 * 4 = 3 + 20 =  23\nOperations within parentheses take precedence: (3 + 5) * 4 = 8 * 4 =  32\n"
    }
   ],
   "source": [
    "variable_1 = 3\n",
    "variable_2 = 5\n",
    "variable_3 = 4\n",
    "\n",
    "print(\"Multiplication takes precedence over addition: 3 + 5 * 4 = 3 + 20 = \", variable_1 + variable_2 * variable_3)\n",
    "print(\"Operations within parentheses take precedence: (3 + 5) * 4 = 8 * 4 = \", (variable_1 + variable_2) * variable_3)"
   ]
  },
  {
   "cell_type": "markdown",
   "metadata": {},
   "source": [
    "## Division, floor division, and modulus\n",
    "\n",
    "In Python 2, the division operator '/' behaved differently depending on whether the operands were ints or floats. If either operand was a float, it performed floating-point division and returned a float. If, however, both operands were ints, it performed integer, or floor, division, returning an int rounded down. To perform floating-point division using two ints, it was necessary to cast at least one of the ints as a float. \n",
    "\n",
    "In Python 3, the division operator always performs floating point division, even if both operands are ints. If you want floor division, you can still use the floor division operator, '//'. Floor division always rounds down, which is important to keep in mind when working with negative numbers."
   ]
  },
  {
   "cell_type": "code",
   "execution_count": 5,
   "metadata": {
    "tags": []
   },
   "outputs": [
    {
     "output_type": "stream",
     "name": "stdout",
     "text": "Using floating point division, 5.0 / 3.0 =  1.6666666666666667\nUsing floating point division, 5 / 3 =  1.6666666666666667\n"
    }
   ],
   "source": [
    "variable_1 = 5.0\n",
    "variable_2 = 3.0\n",
    "print(\"Using floating point division, 5.0 / 3.0 = \", variable_1 / variable_2)\n",
    "\n",
    "\n",
    "variable_3 = 5\n",
    "variable_4 = 3\n",
    "print(\"Using floating point division, 5 / 3 = \", variable_3 / variable_4)"
   ]
  },
  {
   "cell_type": "markdown",
   "metadata": {},
   "source": [
    "Floor division, or integer division, returns the result to the nearest integer, rounding down."
   ]
  },
  {
   "cell_type": "code",
   "execution_count": 6,
   "metadata": {
    "tags": []
   },
   "outputs": [
    {
     "output_type": "stream",
     "name": "stdout",
     "text": "Using floor division, 5.0 // 3.0 =  1.0\nUsing floor division, 5 // 3 =  1\n"
    }
   ],
   "source": [
    "variable_1 = 5.0\n",
    "variable_2 = 3.0\n",
    "print(\"Using floor division, 5.0 // 3.0 = \", variable_1 // variable_2)\n",
    "\n",
    "variable_3 = 5\n",
    "variable_4 = 3\n",
    "print(\"Using floor division, 5 // 3 = \", variable_3 // variable_4)"
   ]
  },
  {
   "cell_type": "markdown",
   "metadata": {},
   "source": [
    "Floating point division always returns a float, even when both operands are ints. Floor division returns an int if both operands are ints, and a float otherwise."
   ]
  },
  {
   "cell_type": "code",
   "execution_count": 7,
   "metadata": {
    "tags": []
   },
   "outputs": [
    {
     "output_type": "stream",
     "name": "stdout",
     "text": "Using floating point division, 4 / 2 =  2.0\nUsing floor division, 4 // 2 =  2\nUsing floor division, 4 // 2.0 =  2.0\n"
    }
   ],
   "source": [
    "variable_1 = 4\n",
    "variable_2 = 2\n",
    "print(\"Using floating point division, 4 / 2 = \", variable_1 / variable_2)\n",
    "print(\"Using floor division, 4 // 2 = \", variable_1 // variable_2)\n",
    "\n",
    "variable_3 = 2.0\n",
    "\n",
    "print(\"Using floor division, 4 // 2.0 = \", variable_1 // variable_3)"
   ]
  },
  {
   "cell_type": "markdown",
   "metadata": {},
   "source": [
    "Floating point division behaves exactly as expected when one or both of the operands are negative."
   ]
  },
  {
   "cell_type": "code",
   "execution_count": 8,
   "metadata": {
    "tags": []
   },
   "outputs": [
    {
     "output_type": "stream",
     "name": "stdout",
     "text": "Using floating point division, -7 / 3.0 =  -2.3333333333333335\nUsing floating point division, -7 / -3.0 =  2.3333333333333335\n"
    }
   ],
   "source": [
    "variable_1 = -7\n",
    "variable_2 = 3.0\n",
    "print(\"Using floating point division, -7 / 3.0 = \", variable_1 / variable_2)\n",
    "\n",
    "variable_3 = -3.0\n",
    "print(\"Using floating point division, -7 / -3.0 = \", variable_1 / variable_3)"
   ]
  },
  {
   "cell_type": "markdown",
   "metadata": {},
   "source": [
    "Floor division behaves a little differently. Rounding is always down, rather than to the nearest integer, which can be counterintuitive when the result is negative. This rounding is performed after the division, so the absolute value of the result can be different depending on whether one or both of the operands is negative."
   ]
  },
  {
   "cell_type": "code",
   "execution_count": 9,
   "metadata": {
    "tags": []
   },
   "outputs": [
    {
     "output_type": "stream",
     "name": "stdout",
     "text": "Using floor division, -7 // 3.0 =  -3.0\nUsing floor division, -7 // -3.0 =  2.0\n"
    }
   ],
   "source": [
    "variable_1 = -7\n",
    "variable_2 = 3.0\n",
    "print(\"Using floor division, -7 // 3.0 = \", variable_1 // variable_2)\n",
    "\n",
    "variable_1 = -7\n",
    "variable_3 = -3.0\n",
    "print(\"Using floor division, -7 // -3.0 = \", variable_1 // variable_3)"
   ]
  },
  {
   "cell_type": "markdown",
   "metadata": {},
   "source": [
    "The modulus operator, %, divides the left operand by the right operand and returns the remainder. For negative numbers, modulo uses floor division. Guido van Rossam, the creator of python, describes the relationship between (integer) division and modulus, and their implementation in python, [here](http://python-history.blogspot.com/2010/08/why-pythons-integer-division-floors.html)."
   ]
  },
  {
   "cell_type": "code",
   "execution_count": 10,
   "metadata": {
    "tags": []
   },
   "outputs": [
    {
     "output_type": "stream",
     "name": "stdout",
     "text": "3 modulo 5, 3 % 5 =  3\n3 modulo 5.0, 3 % 5.0 =  3.0\n-3 modulo 5.0, -3 % 5.0 =  2\n3 modulo -5.0, 3 % -5.0 =  -2.0\n"
    }
   ],
   "source": [
    "variable_1 = 3\n",
    "variable_2 = 5\n",
    "print(\"3 modulo 5, 3 % 5 = \", variable_1 % variable_2)\n",
    "\n",
    "variable_1 = 3\n",
    "variable_3 = 5.0\n",
    "print(\"3 modulo 5.0, 3 % 5.0 = \", variable_1 % variable_3)\n",
    "\n",
    "variable_4 = -3\n",
    "variable_5 = -5.0\n",
    "print(\"-3 modulo 5.0, -3 % 5.0 = \", variable_4 % variable_2)\n",
    "print(\"3 modulo -5.0, 3 % -5.0 = \", variable_1 % variable_5)\n"
   ]
  },
  {
   "cell_type": "markdown",
   "metadata": {},
   "source": [
    "## Type casting\n",
    "\n",
    "We've already seen how python casts ints as floats when performing arithmetic operations involving other floats. We can always manually cast ints as floats and vice versa."
   ]
  },
  {
   "cell_type": "code",
   "execution_count": 11,
   "metadata": {
    "tags": []
   },
   "outputs": [
    {
     "output_type": "stream",
     "name": "stdout",
     "text": "Casting an int to a float, float(3) =  3.0\nCasting a float to an int, int(5.0) =  5\n"
    }
   ],
   "source": [
    "variable_1 = 3\n",
    "variable_2 = 5.0\n",
    "\n",
    "print(\"Casting an int to a float, float(3) = \", float(variable_1))\n",
    "print(\"Casting a float to an int, int(5.0) = \", int(variable_2))"
   ]
  },
  {
   "cell_type": "markdown",
   "metadata": {},
   "source": [
    "Casting a float to an int will round the value down to the nearest int, as we saw with the division operator. This results in a loss of information if the int is then cast as a float."
   ]
  },
  {
   "cell_type": "code",
   "execution_count": 12,
   "metadata": {
    "tags": []
   },
   "outputs": [
    {
     "output_type": "stream",
     "name": "stdout",
     "text": "Casting a float to an int, int(3.3) =  3\nCasting a float to an int and back again, float(int(3.3)) =  3.0\n"
    }
   ],
   "source": [
    "variable_1 = 3.3\n",
    "\n",
    "print(\"Casting a float to an int, int(3.3) = \", int(variable_1))\n",
    "print(\"Casting a float to an int and back again, float(int(3.3)) = \", float(int(variable_1)))"
   ]
  },
  {
   "cell_type": "markdown",
   "metadata": {},
   "source": [
    "## String arithmetic\n",
    "\n",
    "You can also use the addition and multiplication operators with strings! Adding two strings concatenates them into a single string, while multiplying a string by an int creates multiple copies of the string and concatenates them."
   ]
  },
  {
   "cell_type": "code",
   "execution_count": 6,
   "metadata": {
    "tags": []
   },
   "outputs": [
    {
     "output_type": "stream",
     "name": "stdout",
     "text": "HelloColab!\nHelloHelloHello\n"
    }
   ],
   "source": [
    "string_a = 'Hello'\n",
    "string_b = 'Colab!'\n",
    "\n",
    "print(string_a + string_b)\n",
    "print(string_a * 3)"
   ]
  },
  {
   "source": [
    "# Exercises\n",
    "\n"
   ],
   "cell_type": "markdown",
   "metadata": {}
  },
  {
   "source": [
    "### 1. \n",
    "\n",
    "Define two variables: a=-7 and b=3. \n"
   ],
   "cell_type": "markdown",
   "metadata": {}
  },
  {
   "source": [
    "### 2. \n",
    "\n",
    "Use the id() function to see what the variables' respective memory\n",
    "addresses are. Print the address of each to the screen using the print()\n",
    "function."
   ],
   "cell_type": "markdown",
   "metadata": {}
  },
  {
   "source": [
    "### 3. \n",
    "\n",
    "Now change the value of a to 20. Print the memory address of a to the\n",
    "screen again. Is it the same as previously or has it changed? How do we call\n",
    "this property of numerical variables in Python?\n"
   ],
   "cell_type": "markdown",
   "metadata": {}
  },
  {
   "source": [
    "### 4. \n",
    "\n",
    "Define a new variable c = a. How does the memory address of c compare to\n",
    "that of a?"
   ],
   "cell_type": "markdown",
   "metadata": {}
  },
  {
   "source": [
    "### 5. \n",
    " \n",
    "Use the type() function to print the type of a and b to the screen. \n",
    "Both should be integers."
   ],
   "cell_type": "markdown",
   "metadata": {}
  },
  {
   "source": [
    "### 6. \n",
    "\n",
    "Now let's do some calculations with a and b! Print both the result and \n",
    "the type of the result of the following operations: a + b, a - b, a * b, \n",
    "a / b, a // b, a ** b. Notice that one of the operators changes the type of\n",
    "the result. Which one and why?"
   ],
   "cell_type": "markdown",
   "metadata": {}
  },
  {
   "source": [
    "### 7. \n",
    "\n",
    "Remember that the type of a variable can be changed by type casting. \n",
    "Compare the results of int(a / b) and a // b. Can you explain why they are\n",
    "different?"
   ],
   "cell_type": "markdown",
   "metadata": {}
  },
  {
   "source": [
    "### 8. \n",
    "\n",
    "Now let's define c=-7. and d=3. (notice the decimal points after the \n",
    "numbers)! Check the types of c and d using the type() function!"
   ],
   "cell_type": "markdown",
   "metadata": {}
  },
  {
   "source": [
    "### 9. \n",
    "\n",
    "Compare the results of a // b and c // d using two different comparison \n",
    "operators: == and \"is\". Can you find out which of the three properties of\n",
    "the variables is compared by each operator? Use the id() function to \n",
    "convince yourself."
   ],
   "cell_type": "markdown",
   "metadata": {}
  },
  {
   "source": [
    "### 10. \n",
    "\n",
    "One way to define complex numbers is: a + 1j * b. Here, the \"1j\" is \n",
    "interpreted as the imaginary unit (the square root of -1). Let's define a\n",
    "complex number: c = 4-1.5j, and add 5+1.5j to it using the increment\n",
    "operator (+=). The imaginary part should vanish after the addition, but does \n",
    "it really? Check the type of the result!"
   ],
   "cell_type": "markdown",
   "metadata": {}
  },
  {
   "source": [
    "### 11. \n",
    " \n",
    "Floating-point numbers do not always behave like real numbers. Write an \n",
    "if statement in which you compare 0.1 * 9 to 1.0. In case of equality, print \n",
    "the message \"Both sides are equal\", otherwise \"The LHS is smaller than the \n",
    "RHS\". Keep adding 1's to the end of 0.1 until you notice a change. Count how \n",
    "many decimals you needed to have an idea about the precision of \n",
    "floating-point numbers."
   ],
   "cell_type": "markdown",
   "metadata": {}
  },
  {
   "source": [
    "### 12. \n",
    "\n",
    "Define a floating-point number: p = 355/113. Try the various formatting # syntaxes to display this number to 0, 1, 4, and 16 significant figures.\n"
   ],
   "cell_type": "markdown",
   "metadata": {}
  },
  {
   "source": [
    "### 13. \n",
    "\n",
    "Define a = 10 and b = -10. Find a way to swap the values of the two \n",
    "variables without explicitly redifining one by the value of the other."
   ],
   "cell_type": "markdown",
   "metadata": {}
  }
 ]
}