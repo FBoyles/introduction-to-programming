{
 "metadata": {
  "language_info": {
   "codemirror_mode": {
    "name": "ipython",
    "version": 3
   },
   "file_extension": ".py",
   "mimetype": "text/x-python",
   "name": "python",
   "nbconvert_exporter": "python",
   "pygments_lexer": "ipython3",
   "version": "3.8.3-final"
  },
  "orig_nbformat": 2,
  "kernelspec": {
   "name": "python3",
   "display_name": "Python 3"
  }
 },
 "nbformat": 4,
 "nbformat_minor": 2,
 "cells": [
  {
   "cell_type": "markdown",
   "metadata": {},
   "source": [
    "# Comparison operators\n",
    "\n",
    "Comparison operators compare two operands and return a boolean value, True or False, depending on the relationship between the operands. The following comparison operators are available:\n",
    "\n",
    "| Operator | Description |\n",
    "| :-: | :-- |\n",
    "| == | True if the value on the left is equal to the value on the right |\n",
    "| != | True if the value on the left is not equal to the value on the right |\n",
    "| < | True if the value on the left is less than the value on the right |\n",
    "| > | True if the value on the left is greater than the value on the right |\n",
    "| <= | True if the value on the left is less than or equal to the value on the right |\n",
    "| >= | True if the value on the left is greater than or equal to the value on the right |\n",
    "\n"
   ]
  },
  {
   "cell_type": "markdown",
   "metadata": {},
   "source": [
    "## Numerical comparison"
   ]
  },
  {
   "cell_type": "code",
   "execution_count": 12,
   "metadata": {
    "tags": []
   },
   "outputs": [
    {
     "output_type": "stream",
     "name": "stdout",
     "text": "1 == 2 is  False\n1 != 2 is  True\n"
    }
   ],
   "source": [
    "a = 1\n",
    "b = 2\n",
    "print(\"1 == 2 is \", a == b)\n",
    "print(\"1 != 2 is \", a != b)"
   ]
  },
  {
   "cell_type": "markdown",
   "metadata": {},
   "source": [
    "Conditional operators can be used with if-statements for flow control. Like arithmetic operators, python will cast ints as floats before comparing them to other floats. You can combine arithmetic and comparison operators "
   ]
  },
  {
   "cell_type": "code",
   "execution_count": 25,
   "metadata": {
    "tags": []
   },
   "outputs": [
    {
     "output_type": "stream",
     "name": "stdout",
     "text": "b < d\na + b > c + d\n"
    }
   ],
   "source": [
    "c = 0.5\n",
    "d = 2.1\n",
    "\n",
    "if b < d:\n",
    "    print(\"b < d\")\n",
    "else:\n",
    "    print(\"b >= d\")\n",
    "\n",
    "if a + b > c + d:\n",
    "    print(\"a + b > c + d\")\n",
    "else:\n",
    "    print(\"a + b <= c\")"
   ]
  },
  {
   "cell_type": "markdown",
   "metadata": {},
   "source": [
    "Many numbers cannot be represented precisely as floats, resulting in rounding errors. This can have unexpected consequences when comparing two floats."
   ]
  },
  {
   "cell_type": "code",
   "execution_count": 22,
   "metadata": {
    "tags": []
   },
   "outputs": [
    {
     "output_type": "stream",
     "name": "stdout",
     "text": "y > x; y =  0.30000000000000004\n"
    }
   ],
   "source": [
    "x = 0.1\n",
    "y = 3 * x\n",
    "\n",
    "if y == 0.3:\n",
    "    print(\"y = 3 * x\")\n",
    "elif y > x:\n",
    "    print(\"y > x; y = \", y)\n",
    "else:\n",
    "    print(\"y < x; y = \", y)\n"
   ]
  },
  {
   "cell_type": "markdown",
   "metadata": {},
   "source": [
    "## String comparison"
   ]
  },
  {
   "cell_type": "code",
   "execution_count": 27,
   "metadata": {
    "tags": []
   },
   "outputs": [
    {
     "output_type": "stream",
     "name": "stdout",
     "text": "A and N are different\n"
    }
   ],
   "source": [
    "amino_1 = 'A'\n",
    "amino_2 = 'N'\n",
    "\n",
    "if amino_1 == amino_2:\n",
    "    print(amino_1, 'and', amino_2, 'are the same')\n",
    "else:\n",
    "    print(amino_1, 'and', amino_2, 'are different')"
   ]
  },
  {
   "cell_type": "markdown",
   "metadata": {},
   "source": [
    "When comparing strings of more than one character, the strings are only considered equal if they contain exactly the same sequence of characters. This comparison is case sensitive!"
   ]
  },
  {
   "cell_type": "code",
   "execution_count": 29,
   "metadata": {
    "tags": []
   },
   "outputs": [
    {
     "output_type": "stream",
     "name": "stdout",
     "text": "ARNDCEQGHILKMFPSTWYV and ARNDCEQGHILKMFPSTWY are different\nARNDCEQGHILKMFPSTWYV and arndceqghilkmfpstwyv are different\n"
    }
   ],
   "source": [
    "sequence_1 = \"ARNDCEQGHILKMFPSTWYV\"\n",
    "sequence_2 = \"ARNDCEQGHILKMFPSTWY\"\n",
    "sequence_3 = \"arndceqghilkmfpstwyv\"\n",
    "\n",
    "if sequence_1 == sequence_2:\n",
    "    print(sequence_1, \"and\", sequence_2, \"are the same\")\n",
    "else:\n",
    "    print(sequence_1, \"and\", sequence_2, \"are different\")\n",
    "\n",
    "if sequence_1 == sequence_3:\n",
    "    print(sequence_1, \"and\", sequence_3, \"are the same\")\n",
    "else:\n",
    "    print(sequence_1, \"and\", sequence_3, \"are different\")\n",
    "\n"
   ]
  },
  {
   "cell_type": "markdown",
   "metadata": {},
   "source": [
    "String comparison uses lexographical ordering to check whether one is \"greater than\" the other. The first two characters are compared, and if they are different the character with the higher Unicode point code is considered to be greater. If they are equal, the second characters of each string are compared, and so on. This means that a longer string can be considered \"less than\" a shorter string if it comes first lexographically.\n",
    "\n",
    "If the strings are of different length, and the shorter string is equal to the start of the longer string, then the longer string is considered greater than the shorter string. Note that capital letters have lower Unicode point values than lower case letters, so upper-case strings come before lower-case strings."
   ]
  },
  {
   "cell_type": "code",
   "execution_count": 48,
   "metadata": {
    "tags": []
   },
   "outputs": [
    {
     "output_type": "stream",
     "name": "stdout",
     "text": "A comes before (is less than) N\nRNDC comes after (is greater than) RND\nRNDC comes after (is greater than) ARND\nRNDC comes before (is less than) arnd\nARND comes before (is less than) RND\n"
    }
   ],
   "source": [
    "sequence_1 = \"RNDC\"\n",
    "sequence_2 = \"RND\"\n",
    "sequence_3 = \"ARND\"\n",
    "sequence_4 = \"arnd\"\n",
    "\n",
    "if amino_1 > amino_2:\n",
    "    print(amino_1, \"comes after (is greater than)\", amino_2)\n",
    "else:\n",
    "    print(amino_1, \"comes before (is less than)\", amino_2)\n",
    "\n",
    "if sequence_1 > sequence_2:\n",
    "    print(sequence_1, \"comes after (is greater than)\", sequence_2)\n",
    "else:\n",
    "    print(sequence_1, \"comes before (is less than)\", sequence_2)\n",
    "\n",
    "if sequence_1 > sequence_3:\n",
    "    print(sequence_1, \"comes after (is greater than)\", sequence_3)\n",
    "else:\n",
    "    print(sequence_1, \"comes before (is less than)\", sequence_3)\n",
    "\n",
    "if sequence_1 > sequence_4:\n",
    "    print(sequence_1, \"comes after (is greater than)\", sequence_4)\n",
    "else:\n",
    "    print(sequence_1, \"comes before (is less than)\", sequence_4)\n",
    "\n",
    "if sequence_3 > sequence_2:\n",
    "    print(sequence_3, \"comes after (is greater than)\", sequence_2)\n",
    "else:\n",
    "    print(sequence_3, \"comes before (is less than)\", sequence_2)\n"
   ]
  }
 ]
}