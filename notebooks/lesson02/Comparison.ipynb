{
 "metadata": {
  "language_info": {
   "codemirror_mode": {
    "name": "ipython",
    "version": 3
   },
   "file_extension": ".py",
   "mimetype": "text/x-python",
   "name": "python",
   "nbconvert_exporter": "python",
   "pygments_lexer": "ipython3",
   "version": "3.8.3-final"
  },
  "orig_nbformat": 2,
  "kernelspec": {
   "name": "python3",
   "display_name": "Python 3"
  }
 },
 "nbformat": 4,
 "nbformat_minor": 2,
 "cells": [
  {
   "cell_type": "markdown",
   "metadata": {},
   "source": [
    "# Comparison operators\n",
    "\n",
    "Comparison operators compare two operands and return a boolean value, True or False, depending on the relationship between the operands. The following comparison operators are available:\n",
    "\n",
    "| Operator | Description |\n",
    "| :-: | :-- |\n",
    "| == | True if the value on the left is equal to the value on the right |\n",
    "| != | True if the value on the left is not equal to the value on the right |\n",
    "| < | True if the value on the left is less than the value on the right |\n",
    "| > | True if the value on the left is greater than the value on the right |\n",
    "| <= | True if the value on the left is less than or equal to the value on the right |\n",
    "| >= | True if the value on the left is greater than or equal to the value on the right |\n",
    "\n"
   ]
  },
  {
   "cell_type": "markdown",
   "metadata": {},
   "source": [
    "## Numerical comparison"
   ]
  },
  {
   "cell_type": "code",
   "execution_count": 12,
   "metadata": {
    "tags": []
   },
   "outputs": [
    {
     "output_type": "stream",
     "name": "stdout",
     "text": "1 == 2 is  False\n1 != 2 is  True\n"
    }
   ],
   "source": [
    "a = 1\n",
    "b = 2\n",
    "print(\"1 == 2 is \", a == b)\n",
    "print(\"1 != 2 is \", a != b)"
   ]
  },
  {
   "cell_type": "markdown",
   "metadata": {},
   "source": [
    "Conditional operators can be used with if-statements for flow control. Like arithmetic operators, python will cast ints as floats before comparing them to other floats. You can combine arithmetic and comparison operators "
   ]
  },
  {
   "cell_type": "code",
   "execution_count": 25,
   "metadata": {
    "tags": []
   },
   "outputs": [
    {
     "output_type": "stream",
     "name": "stdout",
     "text": "b < d\na + b > c + d\n"
    }
   ],
   "source": [
    "c = 0.5\n",
    "d = 2.1\n",
    "\n",
    "if b < d:\n",
    "    print(\"b < d\")\n",
    "else:\n",
    "    print(\"b >= d\")\n",
    "\n",
    "if a + b > c + d:\n",
    "    print(\"a + b > c + d\")\n",
    "else:\n",
    "    print(\"a + b <= c\")"
   ]
  },
  {
   "cell_type": "markdown",
   "metadata": {},
   "source": [
    "Many numbers cannot be represented precisely as floats, resulting in rounding errors. This can have unexpected consequences when comparing two floats."
   ]
  },
  {
   "cell_type": "code",
   "execution_count": 22,
   "metadata": {
    "tags": []
   },
   "outputs": [
    {
     "output_type": "stream",
     "name": "stdout",
     "text": "y > x; y =  0.30000000000000004\n"
    }
   ],
   "source": [
    "x = 0.1\n",
    "y = 3 * x\n",
    "\n",
    "if y == 0.3:\n",
    "    print(\"y = 3 * x\")\n",
    "elif y > x:\n",
    "    print(\"y > x; y = \", y)\n",
    "else:\n",
    "    print(\"y < x; y = \", y)\n"
   ]
  },
  {
   "cell_type": "markdown",
   "metadata": {},
   "source": [
    "## String comparison"
   ]
  },
  {
   "cell_type": "code",
   "execution_count": 27,
   "metadata": {
    "tags": []
   },
   "outputs": [
    {
     "output_type": "stream",
     "name": "stdout",
     "text": "A and N are different\n"
    }
   ],
   "source": [
    "amino_1 = 'A'\n",
    "amino_2 = 'N'\n",
    "\n",
    "if amino_1 == amino_2:\n",
    "    print(amino_1, 'and', amino_2, 'are the same')\n",
    "else:\n",
    "    print(amino_1, 'and', amino_2, 'are different')"
   ]
  },
  {
   "cell_type": "markdown",
   "metadata": {},
   "source": [
    "When comparing strings of more than one character, the strings are only considered equal if they contain exactly the same sequence of characters. This comparison is case sensitive!"
   ]
  },
  {
   "cell_type": "code",
   "execution_count": 29,
   "metadata": {
    "tags": []
   },
   "outputs": [
    {
     "output_type": "stream",
     "name": "stdout",
     "text": "ARNDCEQGHILKMFPSTWYV and ARNDCEQGHILKMFPSTWY are different\nARNDCEQGHILKMFPSTWYV and arndceqghilkmfpstwyv are different\n"
    }
   ],
   "source": [
    "sequence_1 = \"ARNDCEQGHILKMFPSTWYV\"\n",
    "sequence_2 = \"ARNDCEQGHILKMFPSTWY\"\n",
    "sequence_3 = \"arndceqghilkmfpstwyv\"\n",
    "\n",
    "if sequence_1 == sequence_2:\n",
    "    print(sequence_1, \"and\", sequence_2, \"are the same\")\n",
    "else:\n",
    "    print(sequence_1, \"and\", sequence_2, \"are different\")\n",
    "\n",
    "if sequence_1 == sequence_3:\n",
    "    print(sequence_1, \"and\", sequence_3, \"are the same\")\n",
    "else:\n",
    "    print(sequence_1, \"and\", sequence_3, \"are different\")\n",
    "\n"
   ]
  },
  {
   "cell_type": "markdown",
   "metadata": {},
   "source": [
    "String comparison uses lexographical ordering to check whether one is \"greater than\" the other. The first two characters are compared, and if they are different the character with the higher Unicode point code is considered to be greater. If they are equal, the second characters of each string are compared, and so on. This means that a longer string can be considered \"less than\" a shorter string if it comes first lexographically.\n",
    "\n",
    "If the strings are of different length, and the shorter string is equal to the start of the longer string, then the longer string is considered greater than the shorter string. Note that capital letters have lower Unicode point values than lower case letters, so upper-case strings come before lower-case strings."
   ]
  },
  {
   "cell_type": "code",
   "execution_count": 48,
   "metadata": {
    "tags": []
   },
   "outputs": [
    {
     "output_type": "stream",
     "name": "stdout",
     "text": "A comes before (is less than) N\nRNDC comes after (is greater than) RND\nRNDC comes after (is greater than) ARND\nRNDC comes before (is less than) arnd\nARND comes before (is less than) RND\n"
    }
   ],
   "source": [
    "sequence_1 = \"RNDC\"\n",
    "sequence_2 = \"RND\"\n",
    "sequence_3 = \"ARND\"\n",
    "sequence_4 = \"arnd\"\n",
    "\n",
    "if amino_1 > amino_2:\n",
    "    print(amino_1, \"comes after (is greater than)\", amino_2)\n",
    "else:\n",
    "    print(amino_1, \"comes before (is less than)\", amino_2)\n",
    "\n",
    "if sequence_1 > sequence_2:\n",
    "    print(sequence_1, \"comes after (is greater than)\", sequence_2)\n",
    "else:\n",
    "    print(sequence_1, \"comes before (is less than)\", sequence_2)\n",
    "\n",
    "if sequence_1 > sequence_3:\n",
    "    print(sequence_1, \"comes after (is greater than)\", sequence_3)\n",
    "else:\n",
    "    print(sequence_1, \"comes before (is less than)\", sequence_3)\n",
    "\n",
    "if sequence_1 > sequence_4:\n",
    "    print(sequence_1, \"comes after (is greater than)\", sequence_4)\n",
    "else:\n",
    "    print(sequence_1, \"comes before (is less than)\", sequence_4)\n",
    "\n",
    "if sequence_3 > sequence_2:\n",
    "    print(sequence_3, \"comes after (is greater than)\", sequence_2)\n",
    "else:\n",
    "    print(sequence_3, \"comes before (is less than)\", sequence_2)\n"
   ]
  },
  {
   "source": [
    "# Exercises"
   ],
   "cell_type": "markdown",
   "metadata": {}
  },
  {
   "source": [
    "## String Comparisons"
   ],
   "cell_type": "markdown",
   "metadata": {}
  },
  {
   "source": [
    "### 1. \n",
    "\n",
    "Define the following variables: a = 65, b = 'a'. What is the value of b? \n",
    "Check the type of b!"
   ],
   "cell_type": "markdown",
   "metadata": {}
  },
  {
   "source": [
    "### 2. \n",
    "\n",
    "Define c = \"b\" and d = \"\"\"c\"\"\". Compare the type of a, b, c, and d! Are \n",
    "the types of b, c, and d different or are they the same?\n"
   ],
   "cell_type": "markdown",
   "metadata": {}
  },
  {
   "source": [
    "### 3. \n",
    "\n",
    "Define e = 'abc' and f = \"abc\". Use the \"is\" operator to check whether \n",
    "the types of e and f are the same."
   ],
   "cell_type": "markdown",
   "metadata": {}
  },
  {
   "source": [
    "### 4. \n",
    "\n",
    "Try the following and explain what each of them does: str(65), str(e), chr\n",
    "(a), chr(66), ord('a'), ord(\"\\n\"). Notice that ord(65) throws an exception. \n",
    "Why?"
   ],
   "cell_type": "markdown",
   "metadata": {}
  },
  {
   "source": [
    "### 5. \n",
    "\n",
    "Define two strings: s_z = \"zombie\" and s_y = \"apocalypse\". Use the + \n",
    "operator to concatenate them. Figure out how to add space between them!"
   ],
   "cell_type": "markdown",
   "metadata": {}
  },
  {
   "source": [
    "### 6. \n",
    "\n",
    "You can see below that aminos_a defines an amino acid sequence. Use the \n",
    "upper() method of the string to make it all upper-case."
   ],
   "cell_type": "markdown",
   "metadata": {}
  },
  {
   "source": [
    "### 7. \n",
    "\n",
    "Use the index() method of the aminos_a variable to identify the first \n",
    "occurrence of triptophan (W). \n",
    "Count the letters up to and including W, and compare it to the result. \n",
    "Explain why the result is one less."
   ],
   "cell_type": "markdown",
   "metadata": {}
  },
  {
   "cell_type": "code",
   "execution_count": null,
   "metadata": {},
   "outputs": [],
   "source": [
    "aminos_a = \"arndceqghilkmfpstwyv\"\n",
    "aminos_b = \"ARNDCEQGHILKMFPSTWYV\"\n",
    "aminos_c = \"ARNDCEQGHILKMFPSTWY\""
   ]
  },
  {
   "source": [
    "### 8. \n",
    "\n",
    "Use the == comparison operator to check whether aminos_a and aminos_b are the same. Also test the equality of aminos_b with aminos_a.upper()."
   ],
   "cell_type": "markdown",
   "metadata": {}
  },
  {
   "source": [
    "### 9. \n",
    "\n",
    "Compare aminos_b and aminos_c using both the \"==\" and the \">\" comparison operator. Can you explain the result in each case?"
   ],
   "cell_type": "markdown",
   "metadata": {}
  },
  {
   "source": [
    "### 10. \n",
    "\n",
    "Explain the result of taking the minimum and the maximum of a string:\n",
    "\n",
    "print(min(aminos_a))\n",
    "print(max(aminos_b))"
   ],
   "cell_type": "markdown",
   "metadata": {}
  },
  {
   "source": [
    "## Boolean Comparisons"
   ],
   "cell_type": "markdown",
   "metadata": {}
  },
  {
   "source": [
    "### 1. \n",
    "\n",
    "The truth value of any variable can be determined by type casting: \n",
    "bool(). Use type casting to determine the truth value of each of the \n",
    "following expressions: \"\", \"a\", 0, 1, 10.7, 6j, True, False, None.\n",
    "The first one has been given to you as an example. Note that the \\ is used\n",
    "in the descripition below as an escape character for \". Otherwise the quotes \n",
    "would be interpreted as a definition of another string."
   ],
   "cell_type": "markdown",
   "metadata": {}
  },
  {
   "cell_type": "code",
   "execution_count": null,
   "metadata": {},
   "outputs": [],
   "source": [
    "\n",
    "print(\"The truth value of \\\"\\\" is: \", bool(\"\"))\n",
    "\n"
   ]
  },
  {
   "source": [
    "### 2. \n",
    "\n",
    "Explain the truth value of the following expressions that use the \"and\" \n",
    "and the \"or\" Boolean operators:"
   ],
   "cell_type": "markdown",
   "metadata": {}
  },
  {
   "cell_type": "code",
   "execution_count": null,
   "metadata": {},
   "outputs": [],
   "source": [
    "\n",
    "print(\"1 and 1.0 \t\t\t\tevaluates to:\", 1 and 1.0)\n",
    "print(\"1 is 1.0 \t\t\t\tevaluates to:\", 1 is 1.0)\n",
    "print(\"20 and \\\"20\\\" \t\t\tevaluates to:\", 20 and “20”)\n",
    "print(\"\\\"20\\\" and 20 \t\t\tevaluates to:\", “20” and 20)\n",
    "print(\"0 and \\\"20\\\" \t\t\tevaluates to:\", 0 and “20”)\n",
    "print(\"0 or \\\"20\\\" \t\t\t\tevaluates to:\", 0 or “20”)\n",
    "print(\"\\\"20\\\" or 0 \t\t\t\tevaluates to\", “20” or 0)"
   ]
  }
 ]
}