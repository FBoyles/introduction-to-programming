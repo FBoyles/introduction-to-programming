{
 "metadata": {
  "language_info": {
   "codemirror_mode": {
    "name": "ipython",
    "version": 3
   },
   "file_extension": ".py",
   "mimetype": "text/x-python",
   "name": "python",
   "nbconvert_exporter": "python",
   "pygments_lexer": "ipython3",
   "version": "3.8.3-final"
  },
  "orig_nbformat": 2,
  "kernelspec": {
   "name": "python3",
   "display_name": "Python 3"
  }
 },
 "nbformat": 4,
 "nbformat_minor": 2,
 "cells": [
  {
   "cell_type": "markdown",
   "metadata": {},
   "source": [
    "# Regular expressions\n",
    "\n",
    "A regular expression, or 'regex', is a sequence of characters defining a search pattern. An example of regular expressions in action is the find and replace function of text editors, which finds all occurances of a particular string in a text file, then replaces that string with a different string.\n",
    "\n",
    "In python, the 're' library provides lots of tools for working with regular expressions (more on libraries later). To make the library available, we first import it."
   ]
  },
  {
   "cell_type": "code",
   "execution_count": 1,
   "metadata": {},
   "outputs": [],
   "source": [
    "import re"
   ]
  },
  {
   "cell_type": "markdown",
   "metadata": {},
   "source": [
    "Now the re library is available to use in our notebook session. A simple application of regular expressions is replacing part of a string with another string. We can do this using the sub() function from the re library."
   ]
  },
  {
   "cell_type": "code",
   "execution_count": 4,
   "metadata": {
    "tags": []
   },
   "outputs": [
    {
     "output_type": "stream",
     "name": "stdout",
     "text": "Before COVID-19, I went to the DTC every day.\nBefore COVID-19, I went to the pub every day.\n"
    }
   ],
   "source": [
    "my_string = \"Before COVID-19, I went to the DTC every day.\"\n",
    "print(my_string)\n",
    "\n",
    "new_string = re.sub('DTC', 'pub', my_string)\n",
    "print(new_string)"
   ]
  },
  {
   "cell_type": "markdown",
   "metadata": {},
   "source": [
    "Let's unpack what's happening here. 'my_string' is some text stored as a string that we want to search for patterns using a regular expression. 'DTC' is our regular expression - the pattern that will be matched in the text. 'pub' is a string that will be substituted in place of 'DTC' once a match is found. The function re.sub() takes our text, searches for the pattern 'DTC', replaces them with 'pub', and returns the modified text as a new string."
   ]
  },
  {
   "cell_type": "markdown",
   "metadata": {},
   "source": [
    "Regex isn't limited to searching for a specific string. For example, we might want to search through some text and pull out any integers. For this, we can use a regex pattern that translates to \"match any substring that consists of digits, and only digits\"."
   ]
  },
  {
   "cell_type": "code",
   "execution_count": 9,
   "metadata": {},
   "outputs": [
    {
     "output_type": "execute_result",
     "data": {
      "text/plain": "['19', '9', '5']"
     },
     "metadata": {},
     "execution_count": 9
    }
   ],
   "source": [
    "pattern = '\\d+'\n",
    "my_string = \"Before COVID-19, I worked in the DTC from 9 to 5 every day.\"\n",
    "re.findall(pattern, my_string)"
   ]
  },
  {
   "cell_type": "markdown",
   "metadata": {},
   "source": [
    "Here, '\\d' means \"match any digits\", while the '+' means \"one or more\", so the search pattern will match any sequence of one or more digits. Note that in most systems, the regex character '\\d' will only match numerical digits 0-9, but in python 3 will match any valid Unicode digit. For example, in Mongolian script the number five is represented by the digit ᠕, and the number nine is represented by the numeral ᠙. Since python 3 supports Unicode strings by default, it's possible to create a string containing this numeral, and use regex to detect it."
   ]
  },
  {
   "cell_type": "code",
   "execution_count": 17,
   "metadata": {},
   "outputs": [
    {
     "output_type": "execute_result",
     "data": {
      "text/plain": "['19', '᠙', '᠕']"
     },
     "metadata": {},
     "execution_count": 17
    }
   ],
   "source": [
    "pattern = '\\d+'\n",
    "my_string = \"Before COVID-19, I worked in the DTC from ᠙ to ᠕ every day.\"\n",
    "re.findall(pattern, my_string)"
   ]
  },
  {
   "cell_type": "markdown",
   "metadata": {},
   "source": [
    "Pretty cool, right? But suppose we only want to match the ASCII Latin digits 0-9. You _could_ play with the regex settings, such as using ASCII mode, or pre-compile your search pattern as binary (again, more on binary data later!). Or, we can specify a custom set of characters for our search pattern, using something like this."
   ]
  },
  {
   "cell_type": "code",
   "execution_count": 20,
   "metadata": {},
   "outputs": [
    {
     "output_type": "execute_result",
     "data": {
      "text/plain": "['19', '5']"
     },
     "metadata": {},
     "execution_count": 20
    }
   ],
   "source": [
    "pattern = '[0-9]+'\n",
    "my_string = \"Before COVID-19, I worked in the DTC from ᠙ to 5 every day.\"\n",
    "re.findall(pattern, my_string)\n"
   ]
  },
  {
   "cell_type": "markdown",
   "metadata": {},
   "source": [
    "In a regex, a set of characters contained within square brackets [] indicate what is known as a character class. The regex engine will then return a match every time it encounters one of the characters in the character class. Here, the '-' character tells regex to match any character in the range 0-9. As before, we use the '+' character to tell the regex engine to match any occurence of one or more of the characters that we have specified. If we leave out the '+', each matching character will be reported as a separate match."
   ]
  },
  {
   "cell_type": "code",
   "execution_count": 21,
   "metadata": {},
   "outputs": [
    {
     "output_type": "execute_result",
     "data": {
      "text/plain": "['1', '9', '5']"
     },
     "metadata": {},
     "execution_count": 21
    }
   ],
   "source": [
    "pattern = '[0-9]'\n",
    "my_string = \"Before COVID-19, I worked in the DTC from ᠙ to 5 every day.\"\n",
    "re.findall(pattern, my_string)"
   ]
  },
  {
   "cell_type": "markdown",
   "metadata": {},
   "source": [
    "We can do the same thing with other sets of characters. For example, suppose we want to identify acronyms in a piece of text. We could start by using a regex to match any capital letters."
   ]
  },
  {
   "cell_type": "code",
   "execution_count": 31,
   "metadata": {},
   "outputs": [
    {
     "output_type": "execute_result",
     "data": {
      "text/plain": "['B', 'COVID', 'I', 'DTC']"
     },
     "metadata": {},
     "execution_count": 31
    }
   ],
   "source": [
    "pattern = '[A-Z]+'\n",
    "my_string = \"Before COVID-19, I worked in the DTC from ᠙ to 5 every day.\"\n",
    "re.findall(pattern, my_string)"
   ]
  },
  {
   "cell_type": "markdown",
   "metadata": {},
   "source": [
    "Not bad, but we're also picking up capitalised words, such as the start of sentences and proper nouns. Instead of telling regex to match \"one or more\" capital letter, we can instead restrict the search to occurences of two or more capital letters. We can specify the range of match lengths by adding a quantifier using curly braces {n, m}, where n is the minimum length, and m is the maximum length. For no maximum length, we can just use {n,}."
   ]
  },
  {
   "cell_type": "code",
   "execution_count": 32,
   "metadata": {
    "tags": []
   },
   "outputs": [
    {
     "output_type": "execute_result",
     "data": {
      "text/plain": "['COVID', 'DTC']"
     },
     "metadata": {},
     "execution_count": 32
    }
   ],
   "source": [
    "pattern = '[A-Z]{2,}'\n",
    "my_string = \"Before COVID-19, I worked in the DTC from ᠙ to 5 every day.\"\n",
    "re.findall(pattern, my_string)\n"
   ]
  },
  {
   "cell_type": "markdown",
   "metadata": {},
   "source": [
    "This is just scratching the surface, but should give you an idea of the power of regular expressions. If you want to learn more about the many, many search options available, the python docs have a [nice introduction](https://docs.python.org/3/howto/regex.html) and the [gory details](https://docs.python.org/3/library/re.html)."
   ]
  },
  {
   "cell_type": "markdown",
   "metadata": {},
   "source": [
    "## Exercises\n",
    "\n"
   ]
  },
  {
   "cell_type": "markdown",
   "metadata": {},
   "source": [
    "DNA is comprised of four nucleic acids - adenine (A), guanine (G), cytosine (C), and thymine (T). In mRNA, thymine (T) is replaced by uracil (U), and we can convert a DNA sequence to the corresponding mRNA sequence by converting all thymine nucleotides to uracil.\n",
    "\n",
    "### TODO what about using the nucleotide sequence -> amino acid sequence as an example for dictionaries later on?"
   ]
  },
  {
   "cell_type": "markdown",
   "metadata": {},
   "source": [
    "Write a piece of code that checks whether a sequence contains contains only valid nucleotides (A, G, C, T, U) and determines whether it is DNA or mRNA. Write another piece of code that converts DNA to mRNA and vice versa."
   ]
  },
  {
   "cell_type": "code",
   "execution_count": 33,
   "metadata": {},
   "outputs": [],
   "source": [
    "sequence = \"GTGCTCAATGGATAATACTGAGCTCGAGGTGGACTTCTATAGTTGCGTACACTCGATGAC\""
   ]
  },
  {
   "cell_type": "markdown",
   "metadata": {},
   "source": [
    "DNA molecules consist of two complementary strands of DNA arranged in a helix, where each adenine is paired with thymine and each guanine is paired with cytosine, and vice versa. Write another piece of code to generate the compliment of a DNA sequence."
   ]
  },
  {
   "cell_type": "code",
   "execution_count": null,
   "metadata": {},
   "outputs": [],
   "source": [
    "sequence = \"GTGCTCAATGGATAATACTGAGCTCGAGGTGGACTTCTATAGTTGCGTACACTCGATGAC\"`"
   ]
  },
  {
   "cell_type": "markdown",
   "metadata": {},
   "source": [
    "Codons are sequences of three nucleotides that correspond to a specific amino acid during translation. Not all of an mRNA transcript is translated into a protein sequence. Instead, a set of special codons signal to the translation machinery to start and stop translaton. The start codon, AUG (ATG in the DNA sequence), indicates the start of the coding region, and any one of the the three stop codons (UAA, UAG, or UGA) indicates the end of the coding region. The section of mRNA preceding the start codon is known as the 5' untranslated region (5'-UTR), while the section of mRNA following the stop codon is known as the 3' untranslated region (3'-UTR). Write a piece of code that locates the start and stop codons in an mRNA sequence and extracts the coding region. You might want to break the sequence up into codons to verify that the stop codon is some multiple of three nucleotdes after the start codon."
   ]
  },
  {
   "cell_type": "code",
   "execution_count": null,
   "metadata": {},
   "outputs": [],
   "source": []
  }
 ]
}