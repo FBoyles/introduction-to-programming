{
 "metadata": {
  "language_info": {
   "codemirror_mode": {
    "name": "ipython",
    "version": 3
   },
   "file_extension": ".py",
   "mimetype": "text/x-python",
   "name": "python",
   "nbconvert_exporter": "python",
   "pygments_lexer": "ipython3",
   "version": "3.8.3-final"
  },
  "orig_nbformat": 2,
  "kernelspec": {
   "name": "python3",
   "display_name": "Python 3"
  }
 },
 "nbformat": 4,
 "nbformat_minor": 2,
 "cells": [
  {
   "source": [
    "# Libraries\n",
    "\n",
    "This notebook contains several examples of using the numerical calculations package, numpy, and the plotting package, matplotlib. "
   ],
   "cell_type": "markdown",
   "metadata": {}
  },
  {
   "source": [
    "## Essential Exercises"
   ],
   "cell_type": "markdown",
   "metadata": {}
  },
  {
   "source": [
    "### Exercise 1\n",
    "\n",
    "Explore the numpy random sampling [documentation](https://numpy.org/doc/stable/reference/random/index.html)).\n",
    "\n",
    "Below is an example of how to generate a histogram using numpy. Create an array of 1000 random (uniformly distributed) values in an array of shape (1000), and compute the histogram of your array."
   ],
   "cell_type": "markdown",
   "metadata": {}
  },
  {
   "cell_type": "code",
   "execution_count": null,
   "metadata": {
    "tags": []
   },
   "outputs": [],
   "source": [
    "import numpy as np\n",
    "\n",
    "datapoints = [95, 3, 4, 24, 18, 23, 84, 76, 58, 2, 34, 67, 52, 1, 8, 99, 38, 74, 50, 62]\n",
    "hist_values, bin_edges = np.histogram(datapoints, bins=10)\n",
    "print(hist_values)"
   ]
  },
  {
   "source": [
    "### Example 2\n",
    "\n",
    "Explore the numpy statistics [documentation](https://numpy.org/doc/stable/reference/routines.statistics.html).\n",
    "\n",
    "Using numpy, calculate the mean and variance of the random values you generated in Example 1.\n",
    "\n"
   ],
   "cell_type": "markdown",
   "metadata": {}
  },
  {
   "source": [
    "### Example 3\n",
    "\n",
    "Now create your own functions that take a list and returns its mean/variance. (A numpy array, my_array, can be converted into a list using my_array.tolist()) "
   ],
   "cell_type": "markdown",
   "metadata": {}
  },
  {
   "source": [
    "### Example 4\n",
    "\n",
    "Matplotlib is a powerful, but complex, plotting package. Fortunately, it includes a module, pyplot, which provides a simple interface for generating quality plots. If you've ever used MATLAB, you'll find the pyplot interface very familiar. Below is an example of plotting a [histogram](https://matplotlib.org/api/_as_gen/matplotlib.pyplot.hist.html) using pyplot.\n",
    "\n",
    "Using pyplot, create a bar plot showing the histogram of the random values generated in Example 1. Next, create a [bar plot](https://matplotlib.org/api/_as_gen/matplotlib.pyplot.bar.html) showing the difference between your implementation of the mean and varaince, and that of numpy. Verify that both implementations yield identical results."
   ],
   "cell_type": "markdown",
   "metadata": {}
  },
  {
   "cell_type": "code",
   "execution_count": null,
   "metadata": {},
   "outputs": [],
   "source": [
    "import matplotlib.pyplot as plt\n",
    "\n",
    "datapoints = [95, 3, 4, 24, 18, 23, 84, 76, 58, 2, 34, 67, 52, 1, 8, 99, 38, 74, 50, 62]\n",
    " \n",
    "plt.hist(datapoints) \n",
    "plt.title(\"Histogram\")\n",
    "plt.ylabel(\"Count\")\n",
    "plt.xlabel(\"Bins\")\n",
    "plt.show()\n"
   ]
  },
  {
   "source": [
    "### Exercise 5\n",
    "\n",
    "Documentation is key to understanding how to use a library. Write some documentation for your mean and variance functions from Exercise 3, describing what the functions do, what arguments they take, and what values they return. A user should be able to read your documentation and use your function without seeing any of the code for your function."
   ],
   "cell_type": "markdown",
   "metadata": {}
  },
  {
   "source": [
    "## Optional Exercises"
   ],
   "cell_type": "markdown",
   "metadata": {}
  },
  {
   "source": [
    "### Exercise 6\n",
    "\n",
    "Keyword arguments are named arguments of a function, that can be passed to the function in any order. Often, keywords are used to specify optional behaviour, for example, which method a function should use, and can be given a default value that is used if the keyword is not specified when the function is called.\n",
    "\n",
    "Write a single function that takes an array of values, together with a 'statistic' keyword argument that can be either 'mean', 'median', 'mode', or 'histogram', and computes the appropriate statistic for the values. You can use the following function definition to get started."
   ],
   "cell_type": "markdown",
   "metadata": {}
  },
  {
   "cell_type": "code",
   "execution_count": null,
   "metadata": {},
   "outputs": [],
   "source": [
    "def compute_statistic(values, statistic='mean'):\n",
    "    pass"
   ]
  },
  {
   "source": [
    "### Exercise 7\n",
    "\n",
    "Revisiting Lesson 8 on multi-dimensional arrays and raster graphics, use the numpy code provided below to load the set of pixel values in the giraffe.pgm file (remember, you'll need to upload the file to Google Drive, or use google.colab.files.upload()). Then use your newfound matplotlib skills to graph the histogram of the file.\n"
   ],
   "cell_type": "markdown",
   "metadata": {}
  },
  {
   "source": [
    "### Exercise 8\n",
    "\n",
    "The marks and labels along the axes of a plot are stored as sets of variables known as 'ticks'. For example, 'xticks' determines the position of the markers, while 'xticklabels' determines the labels displayed at each marker. Using the [documentation](https://matplotlib.org/api/_as_gen/matplotlib.pyplot.xticks.html) as a starting point, revisit the bar plot from Example 4, and plot one bar for your implementation, and another for the numpy implementation. Modify the xticks to label the bars 'Mine' and 'Numpy' respectively. You can use the keyword arguments of xticks() to modify the properties of the labels, such as the font size and rotation."
   ],
   "cell_type": "markdown",
   "metadata": {}
  },
  {
   "source": [
    "### Exercise 9\n",
    "\n",
    "Modify your function from Exercise 6 so that it plots a histogram if the 'histogram' option is used."
   ],
   "cell_type": "markdown",
   "metadata": {}
  },
  {
   "source": [
    "### Exercise 10\n",
    "\n",
    "Use the [time](https://docs.python.org/3/library/time.html) module from the Python standard library to determine how long your implementation of mean/variance takes, and compare it to the time taken by the numpy implementation. Repeat the time test for 100 iterations, and plot the timing differences as a bar plot with well labelled axes. You can use the following code snippet to get started (you might also want to think about why the time difference for the snippet below is not exactly two seconds)."
   ],
   "cell_type": "markdown",
   "metadata": {}
  },
  {
   "cell_type": "code",
   "execution_count": null,
   "metadata": {
    "tags": []
   },
   "outputs": [],
   "source": [
    "import time\n",
    "\n",
    "start_time = time.time()\n",
    "\n",
    "# Run a set of code/functions\n",
    "# For now, simply sleep for 2 seconds\n",
    "time.sleep(2)\n",
    "\n",
    "total_time = time.time() - start_time\n",
    "\n",
    "print(total_time)\n"
   ]
  },
  {
   "source": [
    "### Exercise 11\n",
    "\n",
    "Repeat the timing test in Exercise 10 for arrays of different numbers of random values. How does the timing difference change for arrays of size 1,000, 10,000, 100,000, 1,000,000? Create a plot to visualise your results, and label the axes appropriately."
   ],
   "cell_type": "markdown",
   "metadata": {}
  }
 ]
}