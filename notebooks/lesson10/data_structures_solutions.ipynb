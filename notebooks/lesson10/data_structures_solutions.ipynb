{
 "cells": [
  {
   "cell_type": "markdown",
   "metadata": {},
   "source": [
    "# Data Structures\n",
    "\n",
    "In this notebook, you will learn about storing structured data using dictionaries. If you finish early, the advanced exercises at the end of the notebook will get you thinking about classes, and how you might want to design your own data structure to create useful objects."
   ]
  },
  {
   "cell_type": "markdown",
   "metadata": {},
   "source": [
    "## Dictionaries\n",
    "\n",
    "Dictionaries consist of key-item pairs, where each key is a unique value that maps to another value."
   ]
  },
  {
   "cell_type": "code",
   "execution_count": 7,
   "metadata": {
    "tags": []
   },
   "outputs": [],
   "source": [
    "age  = {\"John\": 20, \"Marie\" : 22, \"Charlie\" : 24}"
   ]
  },
  {
   "cell_type": "markdown",
   "metadata": {},
   "source": [
    "You can access a value in a dictionary by indexing using the corresponding key."
   ]
  },
  {
   "cell_type": "code",
   "execution_count": 3,
   "metadata": {},
   "outputs": [
    {
     "data": {
      "text/plain": [
       "20"
      ]
     },
     "execution_count": 3,
     "metadata": {},
     "output_type": "execute_result"
    }
   ],
   "source": [
    "age['John']"
   ]
  },
  {
   "cell_type": "markdown",
   "metadata": {},
   "source": [
    "You can iterate over the keys in a dictionary, just like you would a list."
   ]
  },
  {
   "cell_type": "code",
   "execution_count": 4,
   "metadata": {
    "tags": []
   },
   "outputs": [
    {
     "name": "stdout",
     "output_type": "stream",
     "text": [
      "John 20\n",
      "Marie 22\n",
      "Charlie 24\n"
     ]
    }
   ],
   "source": [
    "for person in age:\n",
    "    print(person, age[person])"
   ]
  },
  {
   "cell_type": "markdown",
   "metadata": {},
   "source": [
    "You can add and remove entries to a dictionary. To add an item to the dictionary, we simply set the dictionary entry with a new key to the value we want. To remove an item, we use the 'del' keyword to remove the entry corresponding to a key."
   ]
  },
  {
   "cell_type": "code",
   "execution_count": 5,
   "metadata": {
    "tags": []
   },
   "outputs": [
    {
     "name": "stdout",
     "output_type": "stream",
     "text": [
      "Marie 22\n",
      "Charlie 24\n",
      "Amy 27\n"
     ]
    }
   ],
   "source": [
    "age['Amy'] = 27\n",
    "del age['John']\n",
    "for person in age:\n",
    "    print(person, age[person])"
   ]
  },
  {
   "cell_type": "markdown",
   "metadata": {},
   "source": [
    "The keys of a dictionary are ordered by insertion: the first item inserted is at the top, and so on. This is a relatively new feature, and is only guaranteed in Python 3.7 and above. For example, if we add John back into the dictionary, notice how he now appears last when iterating over the dictionary. Note that modifying an existing entry does not change the ordering."
   ]
  },
  {
   "cell_type": "code",
   "execution_count": 6,
   "metadata": {
    "tags": []
   },
   "outputs": [
    {
     "name": "stdout",
     "output_type": "stream",
     "text": [
      "Marie 22\n",
      "Charlie 24\n",
      "Amy 27\n",
      "John 20\n"
     ]
    }
   ],
   "source": [
    "age['John'] = 20\n",
    "for person in age:\n",
    "    print(person, age[person])"
   ]
  },
  {
   "cell_type": "markdown",
   "metadata": {},
   "source": [
    "Like any collection, we can check if a key is present in a dictionary. If we try to access an entry that does not exist, a KeyError is raised."
   ]
  },
  {
   "cell_type": "code",
   "execution_count": 11,
   "metadata": {
    "tags": []
   },
   "outputs": [
    {
     "name": "stdout",
     "output_type": "stream",
     "text": [
      "True False\n"
     ]
    },
    {
     "ename": "KeyError",
     "evalue": "'The Universe'",
     "output_type": "error",
     "traceback": [
      "\u001b[0;31m---------------------------------------------------------------------------\u001b[0m",
      "\u001b[0;31mKeyError\u001b[0m                                  Traceback (most recent call last)",
      "\u001b[0;32m<ipython-input-11-ed93325b473a>\u001b[0m in \u001b[0;36m<module>\u001b[0;34m\u001b[0m\n\u001b[1;32m      1\u001b[0m \u001b[0mprint\u001b[0m\u001b[0;34m(\u001b[0m\u001b[0;34m'John'\u001b[0m \u001b[0;32min\u001b[0m \u001b[0mage\u001b[0m\u001b[0;34m,\u001b[0m \u001b[0;34m'Charlie'\u001b[0m \u001b[0;32mnot\u001b[0m \u001b[0;32min\u001b[0m \u001b[0mage\u001b[0m\u001b[0;34m)\u001b[0m\u001b[0;34m\u001b[0m\u001b[0;34m\u001b[0m\u001b[0m\n\u001b[0;32m----> 2\u001b[0;31m \u001b[0mage\u001b[0m\u001b[0;34m[\u001b[0m\u001b[0;34m'The Universe'\u001b[0m\u001b[0;34m]\u001b[0m\u001b[0;34m\u001b[0m\u001b[0;34m\u001b[0m\u001b[0m\n\u001b[0m",
      "\u001b[0;31mKeyError\u001b[0m: 'The Universe'"
     ]
    }
   ],
   "source": [
    "print('John' in age, 'Charlie' not in age)\n",
    "age['The Universe']"
   ]
  },
  {
   "cell_type": "markdown",
   "metadata": {},
   "source": [
    "Dictionary keys can be any immutable type (e.g. ints, floats, strings, and even tuples), while values can be any type. Like a list, entries do not have to be of the same type. The values of a dictionary can even be another dictionary! This can be a powerful way of keeping track of heterogeneous data. For example, we might have a dictionary of personal details."
   ]
  },
  {
   "cell_type": "code",
   "execution_count": 17,
   "metadata": {},
   "outputs": [],
   "source": [
    "people = {}\n",
    "people['John'] = {'age': 20, 'height': 172, 'likes': ['Python', 'Dictionaries'], 'dislikes': ['Java', 'Ruby', 'Arrays'], 'favourite animal': 'python'}\n",
    "people['Amy'] = {'age': 27, 'height': 167, 'likes': ['Java'], 'dislikes': ['Python', 'John'], 'favourite colour': 'magenta', 'favourite sport': 'hockey'}"
   ]
  },
  {
   "cell_type": "code",
   "execution_count": 19,
   "metadata": {},
   "outputs": [
    {
     "data": {
      "text/plain": [
       "{'age': 20,\n",
       " 'height': 172,\n",
       " 'likes': ['Python', 'Dictionaries'],\n",
       " 'dislikes': ['Java', 'Ruby', 'Arrays'],\n",
       " 'favourite animal': 'python'}"
      ]
     },
     "execution_count": 19,
     "metadata": {},
     "output_type": "execute_result"
    }
   ],
   "source": [
    "people['John']"
   ]
  },
  {
   "cell_type": "code",
   "execution_count": 20,
   "metadata": {},
   "outputs": [
    {
     "data": {
      "text/plain": [
       "['Python', 'Dictionaries']"
      ]
     },
     "execution_count": 20,
     "metadata": {},
     "output_type": "execute_result"
    }
   ],
   "source": [
    "people['John']['likes']"
   ]
  },
  {
   "cell_type": "code",
   "execution_count": null,
   "metadata": {},
   "outputs": [],
   "source": []
  },
  {
   "cell_type": "markdown",
   "metadata": {},
   "source": [
    "### Exercise 1\n",
    "\n",
    "Download the file 'Blosum62.txt' from Canvas. This contains the Blosum62 matrix for amino acid substitutions where the i, j-th entry is the score associated with substituting amino acid i with amino acid j. Select a 4x4 subset of the matrix, including Alanine (A) and Glycine (G), and create a dictionary that will return the cost of substituting one amino acid for another. Verify that your dictionary returns the correct score for substituting Alanine for Glycine."
   ]
  },
  {
   "source": [
    "Let's use the following subset of the matrix as an example and create a nested dictionary, blosum, so that blosum\\['A'\\]\\['G'\\] is the score associated with substituting Alanine with Glycine. We'll set each element explicitly, but you could use a comprehension or pass list of keys and values directly to dict() if you like.\n",
    "\n",
    "\n",
    "|   | A | C | E | G |\n",
    "|---|--:|--:|--:|--:|\n",
    "| A | 4 | 0 | -1| 0 |\n",
    "| C | 0 | 9 | -4| -3|\n",
    "| E |-1 |-4 |5 |-2 |\n",
    "| G | 0 |-3 |-2 | 6 |"
   ],
   "cell_type": "markdown",
   "metadata": {}
  },
  {
   "cell_type": "code",
   "execution_count": 5,
   "metadata": {},
   "outputs": [
    {
     "output_type": "execute_result",
     "data": {
      "text/plain": [
       "{'A': {'A': 4, 'C': 0, 'E': -1, 'G': 0},\n",
       " 'C': {'A': 0, 'C': 9, 'E': -4, 'G': -3},\n",
       " 'E': {'A': -1, 'C': -4, 'E': 5, 'G': -2},\n",
       " 'G': {'A': 0, 'C': -3, 'E': -2, 'G': 6}}"
      ]
     },
     "metadata": {},
     "execution_count": 5
    }
   ],
   "source": [
    "# We could start by putting each row in a list\n",
    "rows = [\n",
    "    [4, 0, -1, 0],\n",
    "    [0, 9, -4, -3],\n",
    "    [-1, -4, 5, -2],\n",
    "    [0, -3, -2, 6]\n",
    "]\n",
    "# And the row/column labels in a list\n",
    "labels = ['A', 'C', 'E', 'G']\n",
    "\n",
    "# Now let's create a dictionary - we can think of the keys as the labels for the rows and columns of the matrix\n",
    "blosum4 = {}\n",
    "\n",
    "# Loop over the row labels and values\n",
    "for row_label, row in zip(labels, rows):\n",
    "    # For each row, create an inner dictionary\n",
    "    blosum4[row_label] = {}\n",
    "    # Now we can loop over the column labels and values\n",
    "    for column_label, value in zip(labels, row):\n",
    "        blosum4[row_label][column_label] = value\n",
    "\n",
    "blosum4"
   ]
  },
  {
   "source": [
    "We can check that the score for substituting Alanine with Glycine is 0, and that the dictionary is symmetric, like the matrix."
   ],
   "cell_type": "markdown",
   "metadata": {}
  },
  {
   "cell_type": "code",
   "execution_count": 7,
   "metadata": {},
   "outputs": [
    {
     "output_type": "execute_result",
     "data": {
      "text/plain": [
       "(0, 0)"
      ]
     },
     "metadata": {},
     "execution_count": 7
    }
   ],
   "source": [
    "blosum4['A']['G'], blosum4['G']['A']"
   ]
  },
  {
   "cell_type": "markdown",
   "metadata": {},
   "source": [
    "### Exercise 2 (Optional, but recommended)\n",
    "\n",
    "Load the contents of Blosum62.txt and, using a loop, create a dictionary to represent the entire Blosum62 matrix.\n"
   ]
  },
  {
   "source": [
    "There are lots of ways to do this, so here are two examples. First, we load the lines of the text file into a list, splitting each line into individual characters, so we end up with a list of lists."
   ],
   "cell_type": "markdown",
   "metadata": {}
  },
  {
   "cell_type": "code",
   "execution_count": 16,
   "metadata": {
    "tags": []
   },
   "outputs": [
    {
     "output_type": "stream",
     "name": "stdout",
     "text": [
      "['#', 'A', 'R', 'N', 'D', 'C', 'Q', 'E', 'G', 'H', 'I', 'L', 'K', 'M', 'F', 'P', 'S', 'T', 'W', 'Y', 'V', 'B', 'Z', 'X', '*']\n['A', '4', '-1', '-2', '-2', '0', '-1', '-1', '0', '-2', '-1', '-1', '-1', '-1', '-2', '-1', '1', '0', '-3', '-2', '0', '-2', '-1', '0', '-4']\n"
     ]
    }
   ],
   "source": [
    "with open('Blosum62.txt') as f:\n",
    "    lines = [line.strip().split() for line in f]\n",
    "print(lines[0])\n",
    "print(lines[1])"
   ]
  },
  {
   "source": [
    "As in Exercise 1, we want to create a dictionary of dictionaries, blosum, such that we can get the score of substituting X with Y by using blosum\\[X\\]\\[Y\\]. To do this, we'll store the column labels in a list, then loop over the remaining rows, which contain a row label and a row of the values from the matrix. We'll use the row label as a key for the outer dictionary, then use the column labels and the row of values to create an inner dictionary."
   ],
   "cell_type": "markdown",
   "metadata": {}
  },
  {
   "cell_type": "code",
   "execution_count": 20,
   "metadata": {},
   "outputs": [],
   "source": [
    "blosum = {}\n",
    "\n",
    "for line in lines:\n",
    "\n",
    "    # First, get the column labels - line[1:] gives us all the values in 'line', starting from line[1]\n",
    "    if line[0] == '#':\n",
    "        column_labels = line[1:]\n",
    "\n",
    "    # The rest of the lines are rows of the matrix\n",
    "    else:\n",
    "\n",
    "        # The first character is the amino acid label for this row\n",
    "        row_label = line[0]\n",
    "\n",
    "        # The characters are the values in the matrix\n",
    "        values = line[1:]\n",
    "\n",
    "        # create a dictionary to store this row of the matrix\n",
    "        row_dict = {}\n",
    "\n",
    "        # populate the dictionary, using the column labels as keys and the row entries as values\n",
    "        for label, value in zip(column_labels, values):\n",
    "\n",
    "            # Since we read the values from a text file, they're currently stored as strings, so we need to convert them to ints\n",
    "            row_dict[label] = int(value)\n",
    "\n",
    "        # Finally, add this row to the blosum dictionary\n",
    "        blosum[row_label] = row_dict"
   ]
  },
  {
   "source": [
    "As before, we can check that we get the expected values, and that the dictionary is symmetric."
   ],
   "cell_type": "markdown",
   "metadata": {}
  },
  {
   "cell_type": "code",
   "execution_count": 21,
   "metadata": {},
   "outputs": [
    {
     "output_type": "execute_result",
     "data": {
      "text/plain": [
       "(0, 0)"
      ]
     },
     "metadata": {},
     "execution_count": 21
    }
   ],
   "source": [
    "blosum['A']['G'], blosum['G']['A']"
   ]
  },
  {
   "source": [
    "We can avoid using the inner for-loop by passing zip(column_labels, values) directly to dict() to create row_dict."
   ],
   "cell_type": "markdown",
   "metadata": {}
  },
  {
   "cell_type": "code",
   "execution_count": 24,
   "metadata": {},
   "outputs": [
    {
     "output_type": "execute_result",
     "data": {
      "text/plain": [
       "(0, 0)"
      ]
     },
     "metadata": {},
     "execution_count": 24
    }
   ],
   "source": [
    "blosum = {}\n",
    "\n",
    "for line in lines:\n",
    "\n",
    "    # First, get the column labels - line[1:] gives us all the values in 'line', starting from line[1]\n",
    "    if line[0] == '#':\n",
    "        column_labels = line[1:]\n",
    "\n",
    "    # The rest of the lines are rows of the matrix\n",
    "    else:\n",
    "\n",
    "        # The first character is the amino acid label for this row\n",
    "        row_label = line[0]\n",
    "\n",
    "        # The characters are the values in the matrix - as above, we need to convert them to ints\n",
    "        values = [int(x) for x in line[1:]]\n",
    "\n",
    "        blosum[row_label] = dict(zip(column_labels, values))\n",
    "\n",
    "blosum['A']['G'], blosum['G']['A']"
   ]
  },
  {
   "source": [],
   "cell_type": "markdown",
   "metadata": {}
  },
  {
   "cell_type": "markdown",
   "metadata": {},
   "source": [
    "### Exercise 3\n",
    "\n",
    "Download the file 'codon_table.txt' from Canvas. This contains the standard DNA codon - amino acid genetic code. Load the contents of this file and create a dictionary that maps each codon to the corresponding amino acid. Make sure the start and stop codons are mapped appropriately. Create a second dictionary that maps each amino acid to a tuple containing all codons that code that amino acid, again ensuring the start and stop codons are mapped appropriately."
   ]
  },
  {
   "source": [
    "As in Exercise 2, we load the table into a list, and split each row into a list, so that the whole table is stored as a list of lists."
   ],
   "cell_type": "markdown",
   "metadata": {}
  },
  {
   "source": [
    "with open('codon_table.txt') as f:\n",
    "    lines = [line.strip().split() for line in f]"
   ],
   "cell_type": "code",
   "metadata": {},
   "execution_count": 10,
   "outputs": []
  },
  {
   "source": [
    "To create a dictionary that maps each codon onto the corresponding amino acid, we can use the first two columns of the table. For each line, line\\[0\\] will be the codon, and line\\[2\\] will be the -character amino acid name. Note that the character 'O' represents the stop codon. We can therefore create our dictionary by looping over the lines of the table as follows."
   ],
   "cell_type": "markdown",
   "metadata": {}
  },
  {
   "cell_type": "code",
   "execution_count": 54,
   "metadata": {},
   "outputs": [],
   "source": [
    "# Create an empty dictionary\n",
    "codon_to_amino = {}\n",
    "\n",
    "for line in lines:\n",
    "    # Skip the first line, as this contains the column labels\n",
    "    if line[0] == 'Codon':\n",
    "        continue\n",
    "\n",
    "    # Get the first two elements of the line\n",
    "    codon = line[0]\n",
    "    amino = line[2]\n",
    "\n",
    "    # Add the new item to the dictionary\n",
    "    codon_to_amino[codon] = amino"
   ]
  },
  {
   "cell_type": "code",
   "execution_count": 55,
   "metadata": {},
   "outputs": [
    {
     "output_type": "execute_result",
     "data": {
      "text/plain": [
       "('K', 'O')"
      ]
     },
     "metadata": {},
     "execution_count": 55
    }
   ],
   "source": [
    "codon_to_amino['AAA'], codon_to_amino['TAA']"
   ]
  },
  {
   "source": [
    "Next, to create a dictionary that maps each amino acid onto a tuple containing all codons that code for that amino acid, we can make use of our previous dictionary. For each amino acid, we'll start with an empty list and add codons to it as we find them, then convert the list to a tuple once we've exhausted all the codons."
   ],
   "cell_type": "markdown",
   "metadata": {}
  },
  {
   "cell_type": "code",
   "execution_count": 56,
   "metadata": {},
   "outputs": [],
   "source": [
    "amino_to_codons = {}\n",
    "\n",
    "for codon in codon_to_amino:\n",
    "\n",
    "    # Get the amino acid that this codon encodes\n",
    "    amino = codon_to_amino[codon]\n",
    "\n",
    "    # If this is the first codon we've found for this amino acid, create a new list containing this codon\n",
    "    if amino not in amino_to_codons:\n",
    "        amino_to_codons[amino] = [codon]\n",
    "    # Otherwise, add this codon to the existing list\n",
    "    else:\n",
    "        amino_to_codons[amino].append(codon)\n",
    "\n",
    "# Finally, convert each list into a tuple so that the codons corresponding to each amino acid can't be modified\n",
    "\n",
    "for amino in amino_to_codons:\n",
    "    amino_to_codons[amino] = tuple(amino_to_codons[amino])\n",
    "\n"
   ]
  },
  {
   "cell_type": "code",
   "execution_count": 57,
   "metadata": {},
   "outputs": [
    {
     "output_type": "execute_result",
     "data": {
      "text/plain": [
       "{'K': ('AAA', 'AAG'),\n",
       " 'N': ('AAC', 'AAT'),\n",
       " 'T': ('ACA', 'ACC', 'ACG', 'ACT'),\n",
       " 'R': ('AGA', 'AGG', 'CGA', 'CGC', 'CGG', 'CGT'),\n",
       " 'S': ('AGC', 'AGT', 'TCA', 'TCC', 'TCG', 'TCT'),\n",
       " 'I': ('ATA', 'ATC', 'ATT'),\n",
       " 'M': ('ATG',),\n",
       " 'Q': ('CAA', 'CAG'),\n",
       " 'H': ('CAC', 'CAT'),\n",
       " 'P': ('CCA', 'CCC', 'CCG', 'CCT'),\n",
       " 'L': ('CTA', 'CTC', 'CTG', 'CTT', 'TTA', 'TTG'),\n",
       " 'E': ('GAA', 'GAG'),\n",
       " 'D': ('GAC', 'GAT'),\n",
       " 'A': ('GCA', 'GCC', 'GCG', 'GCT'),\n",
       " 'G': ('GGA', 'GGC', 'GGG', 'GGT'),\n",
       " 'V': ('GTA', 'GTC', 'GTG', 'GTT'),\n",
       " 'O': ('TAA', 'TAG', 'TGA'),\n",
       " 'Y': ('TAC', 'TAT'),\n",
       " 'C': ('TGC', 'TGT'),\n",
       " 'W': ('TGG',),\n",
       " 'F': ('TTC', 'TTT')}"
      ]
     },
     "metadata": {},
     "execution_count": 57
    }
   ],
   "source": [
    "amino_to_codons"
   ]
  },
  {
   "cell_type": "markdown",
   "metadata": {},
   "source": [
    "### Exercise 4\n",
    "\n",
    "Referring back to Regex.ipynb from Lesson 5, create a dictionary that maps each DNA base to the corresponding mRNA base. Using this dictionary, write a function that transcribes a DNA sequence to an mRNA sequence. Using this dictionary and your dictionary from Exercise 3, write a piece of code to generate a dictionary that maps mRNA codons to their corresponding amino acid.\n"
   ]
  },
  {
   "source": [
    "To convert DNA to mRNA, we need to convert thymine (T) to uracil (U), keeping the other nucleotides unchanged. We can create a dictionary to store this mapping."
   ],
   "cell_type": "markdown",
   "metadata": {}
  },
  {
   "cell_type": "code",
   "execution_count": 58,
   "metadata": {},
   "outputs": [],
   "source": [
    "dna_to_mrna_base = {'A': 'A', 'C': 'C', 'G': 'G', 'T': 'U'}"
   ]
  },
  {
   "source": [
    "For A, C, and G, this dictionary will return the same nucleotide, while for T it will return U. Anything else will result in an error. We can then use this to translate DNA to mRNA as follows."
   ],
   "cell_type": "markdown",
   "metadata": {}
  },
  {
   "cell_type": "code",
   "execution_count": 59,
   "metadata": {},
   "outputs": [],
   "source": [
    "def dna_to_mrna(dna_sequence):\n",
    "    mrna_sequence = ''\n",
    "    for nucleotide in dna_sequence:\n",
    "        mrna_sequence += dna_to_mrna_base[nucleotide]\n",
    "    return mrna_sequence\n"
   ]
  },
  {
   "cell_type": "code",
   "execution_count": 60,
   "metadata": {},
   "outputs": [
    {
     "output_type": "execute_result",
     "data": {
      "text/plain": [
       "'GUGCUCAAUGGAUAAUACUGAGCUCGAGGUGGACUUCUAUAGUUGCGUACACUCGAUGAC'"
      ]
     },
     "metadata": {},
     "execution_count": 60
    }
   ],
   "source": [
    "sequence = 'GTGCTCAATGGATAATACTGAGCTCGAGGTGGACTTCTATAGTTGCGTACACTCGATGAC'\n",
    "dna_to_mrna(sequence)\n"
   ]
  },
  {
   "source": [
    "To convert mRNA to amino acids, we can use our (DNA) codon_to_amino dictionary as a starting point, and build a new dictionary by converting the DNA codons to mRNA. The values (amino acids) for the new dictionary will be exactly the same."
   ],
   "cell_type": "markdown",
   "metadata": {}
  },
  {
   "cell_type": "code",
   "execution_count": 61,
   "metadata": {},
   "outputs": [],
   "source": [
    "mrna_codon_to_amino = {}\n",
    "\n",
    "for codon in codon_to_amino:\n",
    "    mrna_codon = dna_to_mrna(codon)\n",
    "    mrna_codon_to_amino[mrna_codon] = codon_to_amino[codon]"
   ]
  },
  {
   "cell_type": "code",
   "execution_count": 62,
   "metadata": {},
   "outputs": [
    {
     "output_type": "execute_result",
     "data": {
      "text/plain": [
       "'V'"
      ]
     },
     "metadata": {},
     "execution_count": 62
    }
   ],
   "source": [
    "mrna_codon_to_amino['GUG']"
   ]
  },
  {
   "cell_type": "markdown",
   "metadata": {},
   "source": [
    "### Exercise 5\n",
    "Using your dictionaries, write a function that detects whether a sequence is DNA or mRNA, locates the first start codon and the corresponding stop codon, and translates the sequence between the start and stop codon into an amino acid sequence. Hint: find the start codon, then break the following part of the sequence into codons to identify the stop codon."
   ]
  },
  {
   "cell_type": "code",
   "execution_count": 63,
   "metadata": {},
   "outputs": [],
   "source": [
    "sequence = \"GTGCTCAATGGATAATACTGAGCTCGAGGTGGACTTCTATAGTTGCGTACACTCGATGAC\""
   ]
  },
  {
   "source": [
    "First, let's determine whether thesequence is DNA or mRNA (or something else entirely). One way to do this is to use sets to check whether the values in the sequence all belong to the set of DNA or mRNA nucleotides."
   ],
   "cell_type": "markdown",
   "metadata": {}
  },
  {
   "source": [
    "def translate(sequence):\n",
    "    # We can check if it's DNA or mRNA by checking what nucleotides are present\n",
    "\n",
    "    # One quick way of doing this is to convert the sequence into a set so that it contains only unique values, then compare it to sets that contain the DNA and mRNA nucleotides. If the sets contain the same elements, they are equal\n",
    "    sequence_nucleotides = set(sequence)\n",
    "    dna_nucleotides = set(['A', 'C', 'G', 'T'])\n",
    "    mrna_nucleotides = set(['A', 'C', 'G', 'U'])\n",
    "\n",
    "    if sequence_nucleotides == dna_nucleotides:\n",
    "        # it's DNA\n",
    "        print('DNA')\n",
    "    elif sequence_nucleotides == mrna_nucleotides:\n",
    "        # it's mRNA\n",
    "        print('mRNA!')\n",
    "    else:\n",
    "        # there's something other than DNA or mRNA in the sequence\n",
    "        print('Are you from Mars?')\n",
    "\n",
    "translate(sequence)\n",
    "translate(dna_to_mrna(sequence))"
   ],
   "cell_type": "code",
   "metadata": {},
   "execution_count": 64,
   "outputs": [
    {
     "output_type": "stream",
     "name": "stdout",
     "text": [
      "DNA\nmRNA!\n"
     ]
    }
   ]
  },
  {
   "source": [
    "Now let's extend our function to find the start and stop codons. The most common start codon (in mRNA) is AUG, which codes for methionine, so we'll scan along the sequence until we find the first AUG. We'll then add each additional codon until we reach one of the three stop codons. We'll convert the sequence to mRNA if it's DNA, so that we only have to check for AUG.\n",
    "\n",
    "To keep our code tidy, we can define a helper function, get_codons_to_translate, which takes an mRNA sequence and returns a list of mRNA codons to be translated."
   ],
   "cell_type": "markdown",
   "metadata": {}
  },
  {
   "cell_type": "code",
   "execution_count": 76,
   "metadata": {},
   "outputs": [],
   "source": [
    "def get_mrna_codons_to_translate(sequence):\n",
    "    # Scan along the sequence until we find AUG\n",
    "    # This time we'll use a counter so that we know where to start translating!\n",
    "    start_point = None\n",
    "    for i in range(len(sequence)):\n",
    "        if sequence[i] == 'A':\n",
    "            # Get the codon - remember that the slice sequence[n:m] gives us the characters from sequence[n] to sequence[m-1] \n",
    "            # So sequence[i: i+3] gives us a string containing sequence[i], sequence[i+1], and sequence[i+2]\n",
    "            codon = sequence[i: i+3]\n",
    "            # If it's AUG, we've found the start point, so record it and break out of the loop\n",
    "            if codon == 'AUG':\n",
    "                start_point = i\n",
    "                break\n",
    "    \n",
    "    # If we didn't find a start codon, warn the user and return/raise an exception\n",
    "    if not start_point:\n",
    "        print('No start codon!')\n",
    "        return None\n",
    "    \n",
    "    # Now that we know where the start codon is, we can break the sequence up into three-character codons, starting at this point. We can use the range() function to go in increments of 3.\n",
    "\n",
    "    # First, we'll get the stop codons and translate them into mRNA. \n",
    "    # Remember, the stop codon is mapped to 'O'\n",
    "    stop_codons = amino_to_codons['O']\n",
    "    mrna_stop_codons = set([dna_to_mrna(codon) for codon in stop_codons])\n",
    "\n",
    "    # Next, starting from the start codon, loop over the rest of the sequence one codon at a time until we reach a stop codon\n",
    "    # Remember, range(start, stop, step) gives us the range of numbers starting at 'start' in increments of 'step'\n",
    "    codons_to_translate = []\n",
    "\n",
    "    for i in range(start_point, len(sequence), 3):\n",
    "\n",
    "        codon = sequence[i: i+3]\n",
    "\n",
    "        # Check if this is a stop codon; if so, break out of the loop\n",
    "        if codon in mrna_stop_codons:\n",
    "            break\n",
    "\n",
    "        # Check if we've run out of codons - i.e. is the current 'codon' less than three characters\n",
    "        if len(codon) < 3:\n",
    "            print('Sequence ended without a stop codon')\n",
    "            break\n",
    "\n",
    "        # Otherwise, add this codon to our list\n",
    "        else:\n",
    "            codons_to_translate.append(codon)\n",
    "\n",
    "    # Finally, return the list of codons\n",
    "    return codons_to_translate\n"
   ]
  },
  {
   "source": [
    "Let's see which codons our function picks out."
   ],
   "cell_type": "markdown",
   "metadata": {}
  },
  {
   "cell_type": "code",
   "execution_count": 77,
   "metadata": {},
   "outputs": [
    {
     "output_type": "stream",
     "name": "stdout",
     "text": [
      "Sequence ended without a stop codon\n"
     ]
    },
    {
     "output_type": "execute_result",
     "data": {
      "text/plain": [
       "['AUG',\n",
       " 'GAU',\n",
       " 'AAU',\n",
       " 'ACU',\n",
       " 'GAG',\n",
       " 'CUC',\n",
       " 'GAG',\n",
       " 'GUG',\n",
       " 'GAC',\n",
       " 'UUC',\n",
       " 'UAU',\n",
       " 'AGU',\n",
       " 'UGC',\n",
       " 'GUA',\n",
       " 'CAC',\n",
       " 'UCG',\n",
       " 'AUG']"
      ]
     },
     "metadata": {},
     "execution_count": 77
    }
   ],
   "source": [
    "get_mrna_codons_to_translate(dna_to_mrna(sequence))"
   ]
  },
  {
   "source": [
    "Now, let's use our helper function to complete our translate() function!"
   ],
   "cell_type": "markdown",
   "metadata": {}
  },
  {
   "source": [
    "def translate(sequence):\n",
    "    # We can check if it's DNA or mRNA by checking what nucleotides are present\n",
    "\n",
    "    # One quick way of doing this is to convert the sequence into a set so that it contains only unique values, then compare it to sets that contain the DNA and mRNA nucleotides. If the sets contain the same elements, they are equal\n",
    "    sequence_nucleotides = set(sequence)\n",
    "    dna_nucleotides = set(['A', 'C', 'G', 'T'])\n",
    "    mrna_nucleotides = set(['A', 'C', 'G', 'U'])\n",
    "\n",
    "    if sequence_nucleotides == dna_nucleotides:\n",
    "        # it's DNA, so we need to convert it before feeding it to our helper function\n",
    "        mrna_sequence = dna_to_mrna(sequence)\n",
    "        codons = get_mrna_codons_to_translate(mrna_sequence)\n",
    "    elif sequence_nucleotides == mrna_nucleotides:\n",
    "        # If it's already mRNA, we can pass it straight to our helper function\n",
    "        codons = get_mrna_codons_to_translate(sequence)\n",
    "    else:\n",
    "        # If it's alien, don't try to do anything with it\n",
    "        print('Are you from Mars?')\n",
    "        codons = None\n",
    "\n",
    "    # Finally, translate the codons into amino acids\n",
    "    if codons:\n",
    "        aminos = ''\n",
    "        for codon in codons:\n",
    "            aminos += mrna_codon_to_amino[codon]\n",
    "    else:\n",
    "        # Return None if there were no valid codons - you could raise an exception instead.\n",
    "        aminos = None\n",
    "\n",
    "    return aminos"
   ],
   "cell_type": "code",
   "metadata": {},
   "execution_count": 78,
   "outputs": []
  },
  {
   "cell_type": "code",
   "execution_count": 79,
   "metadata": {},
   "outputs": [
    {
     "output_type": "stream",
     "name": "stdout",
     "text": [
      "Sequence ended without a stop codon\nMDNTELEVDFYSCVHSM\nSequence ended without a stop codon\nMDNTELEVDFYSCVHSM\nAre you from Mars?\nNone\n"
     ]
    }
   ],
   "source": [
    "print(translate(sequence))\n",
    "print(translate(dna_to_mrna(sequence)))\n",
    "print(translate('Hello, genome!'))"
   ]
  },
  {
   "cell_type": "markdown",
   "metadata": {},
   "source": [
    "## Classes\n",
    "\n",
    "Referring back to Lesson 08 on multidimensional arrays and raster graphics, let's create a class to represent an image. If you've made it this far with time to spare, have a go at the following exercise, referring to the [documentation](https://docs.python.org/3/tutorial/classes.html#a-first-look-at-classes) as needed."
   ]
  },
  {
   "cell_type": "markdown",
   "metadata": {},
   "source": [
    "### Exercise 6\n",
    "\n",
    "Here is a template for a class to represent a PBM image. Complete the init function so that when passed the magic number, title, dimensions, and pixels for a PBM image, it assigns each of these to an instance variable in the class. Modify your class so that you can create an empty instance of PBMImage by not passing any arguments.\n",
    "\n",
    "Using your code from Lesson08, load feep.pbm and use the values to create an instance of PBMImage."
   ]
  },
  {
   "cell_type": "code",
   "execution_count": 1,
   "metadata": {},
   "outputs": [],
   "source": [
    "class PBMImage:\n",
    "    \n",
    "    def __init__(self, magic_number, title, dimensions, pixels):\n",
    "        pass"
   ]
  },
  {
   "cell_type": "markdown",
   "metadata": {},
   "source": [
    "### Exercise 7\n",
    "\n",
    "Give your class an instance method which reads a .pbm file and sets the instance variables to the values taken from the file."
   ]
  },
  {
   "cell_type": "markdown",
   "metadata": {},
   "source": [
    "### Exercise 8\n",
    "\n",
    "Give your class an instance method which writes a correctly-formatted .pdb file to a user-specified file name."
   ]
  },
  {
   "cell_type": "markdown",
   "metadata": {},
   "source": [
    "### Exercise 9\n",
    "\n",
    "Give your class an instance method which prints an informative message about the type and dimensions of the image."
   ]
  },
  {
   "cell_type": "markdown",
   "metadata": {},
   "source": [
    "### Exercise 10\n",
    "\n",
    "Give your class an instance method which computes the histogram of the image and returns the result. "
   ]
  },
  {
   "cell_type": "markdown",
   "metadata": {},
   "source": [
    "### Exercise 11\n",
    "\n",
    "Give your class an instance method which inverts the PDB image and returns the result as a new instance of BPMImage."
   ]
  },
  {
   "cell_type": "markdown",
   "metadata": {},
   "source": [
    "### Exercise 12\n",
    "\n",
    "The \\_\\_str\\_\\_(self) instance method is used to tell Python how to represent a class as a string, allowing you to print a meaningful representation of your class. Give your class a \\_\\_str\\_\\_(self) method which converts the PBM image into a human-readable string and returns the result. You could simply use the same format as the image file, or you might choose to omit the pixels and simply describe the format of the image. Check that you can print your class."
   ]
  }
 ],
 "metadata": {
  "kernelspec": {
   "display_name": "Python 3",
   "language": "python",
   "name": "python3"
  },
  "language_info": {
   "codemirror_mode": {
    "name": "ipython",
    "version": 3
   },
   "file_extension": ".py",
   "mimetype": "text/x-python",
   "name": "python",
   "nbconvert_exporter": "python",
   "pygments_lexer": "ipython3",
   "version": "3.8.3-final"
  }
 },
 "nbformat": 4,
 "nbformat_minor": 2
}