{
 "metadata": {
  "language_info": {
   "codemirror_mode": {
    "name": "ipython",
    "version": 3
   },
   "file_extension": ".py",
   "mimetype": "text/x-python",
   "name": "python",
   "nbconvert_exporter": "python",
   "pygments_lexer": "ipython3",
   "version": "3.8.3-final"
  },
  "orig_nbformat": 2,
  "kernelspec": {
   "name": "python3",
   "display_name": "Python 3"
  }
 },
 "nbformat": 4,
 "nbformat_minor": 2,
 "cells": [
  {
   "source": [
    "# Data Structures\n",
    "\n",
    "In this notebook, you will learn about storing structured data using dictionaries. If you finish early, the advanced exercises at the end of the notebook will get you thinking about classes, and how you might want to design your own data structure to create useful objects."
   ],
   "cell_type": "markdown",
   "metadata": {}
  },
  {
   "source": [
    "## Dictionaries\n",
    "\n",
    "Dictionaries consist of key-item pairs, where each key is a unique value that maps to another value."
   ],
   "cell_type": "markdown",
   "metadata": {}
  },
  {
   "cell_type": "code",
   "execution_count": 7,
   "metadata": {
    "tags": []
   },
   "outputs": [],
   "source": [
    "age  = {\"John\": 20, \"Marie\" : 22, \"Charlie\" : 24}"
   ]
  },
  {
   "source": [
    "You can access a value in a dictionary by indexing using the corresponding key."
   ],
   "cell_type": "markdown",
   "metadata": {}
  },
  {
   "cell_type": "code",
   "execution_count": 3,
   "metadata": {},
   "outputs": [
    {
     "output_type": "execute_result",
     "data": {
      "text/plain": "20"
     },
     "metadata": {},
     "execution_count": 3
    }
   ],
   "source": [
    "age['John']"
   ]
  },
  {
   "source": [
    "You can iterate over the keys in a dictionary, just like you would a list."
   ],
   "cell_type": "markdown",
   "metadata": {}
  },
  {
   "cell_type": "code",
   "execution_count": 4,
   "metadata": {
    "tags": []
   },
   "outputs": [
    {
     "output_type": "stream",
     "name": "stdout",
     "text": "John 20\nMarie 22\nCharlie 24\n"
    }
   ],
   "source": [
    "for person in age:\n",
    "    print(person, age[person])"
   ]
  },
  {
   "source": [
    "You can add and remove entries to a dictionary. To add an item to the dictionary, we simply set the dictionary entry with a new key to the value we want. To remove an item, we use the 'del' keyword to remove the entry corresponding to a key."
   ],
   "cell_type": "markdown",
   "metadata": {}
  },
  {
   "cell_type": "code",
   "execution_count": 5,
   "metadata": {
    "tags": []
   },
   "outputs": [
    {
     "output_type": "stream",
     "name": "stdout",
     "text": "Marie 22\nCharlie 24\nAmy 27\n"
    }
   ],
   "source": [
    "age['Amy'] = 27\n",
    "del age['John']\n",
    "for person in age:\n",
    "    print(person, age[person])"
   ]
  },
  {
   "source": [
    "The keys of a dictionary are ordered by insertion: the first item inserted is at the top, and so on. This is a relatively new feature, and is only guaranteed in Python 3.7 and above. For example, if we add John back into the dictionary, notice how he now appears last when iterating over the dictionary. Note that modifying an existing entry does not change the ordering."
   ],
   "cell_type": "markdown",
   "metadata": {}
  },
  {
   "cell_type": "code",
   "execution_count": 6,
   "metadata": {
    "tags": []
   },
   "outputs": [
    {
     "output_type": "stream",
     "name": "stdout",
     "text": "Marie 22\nCharlie 24\nAmy 27\nJohn 20\n"
    }
   ],
   "source": [
    "age['John'] = 20\n",
    "for person in age:\n",
    "    print(person, age[person])"
   ]
  },
  {
   "source": [
    "Like any collection, we can check if a key is present in a dictionary. If we try to access an entry that does not exist, a KeyError is raised."
   ],
   "cell_type": "markdown",
   "metadata": {}
  },
  {
   "cell_type": "code",
   "execution_count": 11,
   "metadata": {
    "tags": []
   },
   "outputs": [
    {
     "output_type": "stream",
     "name": "stdout",
     "text": "True False\n"
    },
    {
     "output_type": "error",
     "ename": "KeyError",
     "evalue": "'The Universe'",
     "traceback": [
      "\u001b[0;31m---------------------------------------------------------------------------\u001b[0m",
      "\u001b[0;31mKeyError\u001b[0m                                  Traceback (most recent call last)",
      "\u001b[0;32m<ipython-input-11-ed93325b473a>\u001b[0m in \u001b[0;36m<module>\u001b[0;34m\u001b[0m\n\u001b[1;32m      1\u001b[0m \u001b[0mprint\u001b[0m\u001b[0;34m(\u001b[0m\u001b[0;34m'John'\u001b[0m \u001b[0;32min\u001b[0m \u001b[0mage\u001b[0m\u001b[0;34m,\u001b[0m \u001b[0;34m'Charlie'\u001b[0m \u001b[0;32mnot\u001b[0m \u001b[0;32min\u001b[0m \u001b[0mage\u001b[0m\u001b[0;34m)\u001b[0m\u001b[0;34m\u001b[0m\u001b[0;34m\u001b[0m\u001b[0m\n\u001b[0;32m----> 2\u001b[0;31m \u001b[0mage\u001b[0m\u001b[0;34m[\u001b[0m\u001b[0;34m'The Universe'\u001b[0m\u001b[0;34m]\u001b[0m\u001b[0;34m\u001b[0m\u001b[0;34m\u001b[0m\u001b[0m\n\u001b[0m",
      "\u001b[0;31mKeyError\u001b[0m: 'The Universe'"
     ]
    }
   ],
   "source": [
    "print('John' in age, 'Charlie' not in age)\n",
    "age['The Universe']"
   ]
  },
  {
   "source": [
    "Dictionary keys can be any immutable type (e.g. ints, floats, strings, and even tuples), while values can be any type. Like a list, entries do not have to be of the same type. The values of a dictionary can even be another dictionary! This can be a powerful way of keeping track of heterogeneous data. For example, we might have a dictionary of personal details."
   ],
   "cell_type": "markdown",
   "metadata": {}
  },
  {
   "cell_type": "code",
   "execution_count": 17,
   "metadata": {},
   "outputs": [],
   "source": [
    "people = {}\n",
    "people['John'] = {'age': 20, 'height': 172, 'likes': ['Python', 'Dictionaries'], 'dislikes': ['Java', 'Ruby', 'Arrays'], 'favourite animal': 'python'}\n",
    "people['Amy'] = {'age': 27, 'height': 167, 'likes': ['Java'], 'dislikes': ['Python', 'John'], 'favourite colour': 'magenta', 'favourite sport': 'hockey'}"
   ]
  },
  {
   "cell_type": "code",
   "execution_count": 19,
   "metadata": {},
   "outputs": [
    {
     "output_type": "execute_result",
     "data": {
      "text/plain": "{'age': 20,\n 'height': 172,\n 'likes': ['Python', 'Dictionaries'],\n 'dislikes': ['Java', 'Ruby', 'Arrays'],\n 'favourite animal': 'python'}"
     },
     "metadata": {},
     "execution_count": 19
    }
   ],
   "source": [
    "people['John']"
   ]
  },
  {
   "cell_type": "code",
   "execution_count": 20,
   "metadata": {},
   "outputs": [
    {
     "output_type": "execute_result",
     "data": {
      "text/plain": "['Python', 'Dictionaries']"
     },
     "metadata": {},
     "execution_count": 20
    }
   ],
   "source": [
    "people['John']['likes']"
   ]
  },
  {
   "cell_type": "code",
   "execution_count": null,
   "metadata": {},
   "outputs": [],
   "source": []
  },
  {
   "source": [
    "### Exercise 1\n",
    "\n",
    "Download the file 'Blosum62.txt' from Canvas. This contains the Blosum62 matrix for amino acid substitutions where the i, j-th entry is the score associated with substituting amino acid i with amino acid j. Select a 4x4 subset of the matrix, including Alanine (A) and Glycine (G), and create a dictionary that will return the cost of substituting one amino acid for another. Verify that your dictionary returns the correct score for substituting Alanine for Glycine."
   ],
   "cell_type": "markdown",
   "metadata": {}
  },
  {
   "cell_type": "code",
   "execution_count": null,
   "metadata": {},
   "outputs": [],
   "source": [
    "blosum = {}\n",
    "\n",
    "blosum['A']['G']"
   ]
  },
  {
   "source": [
    "### Exercise 2 (Optional, but recommended)\n",
    "\n",
    "Load the contents of Blosum62.txt and, using a loop, create a dictionary to represent the entire Blosum62 matrix.\n"
   ],
   "cell_type": "markdown",
   "metadata": {}
  },
  {
   "source": [
    "### Exercise 3\n",
    "\n",
    "Download the file 'codon_table.txt' from Canvas. This contains the standard DNA codon - amino acid genetic code. Load the contents of this file and create a dictionary that maps each codon to the corresponding amino acid. Make sure the start and stop codons are mapped appropriately. Create a second dictionary that maps each amino acid to a tuple containing all codons that code that amino acid, again ensuring the start and stop codons are mapped appropriately."
   ],
   "cell_type": "markdown",
   "metadata": {}
  },
  {
   "source": [
    "### Exercise 4\n",
    "\n",
    "Referring back to Regex.ipynb from Lesson 5, create a dictionary that maps each DNA base to the corresponding mRNA base. Using this dictionary, write a function that transcribes a DNA sequence to an mRNA sequence. Using this dictionary and your dictionary from Exercise 3, write a piece of code to generate a dictionary that maps mRNA codons to their corresponding amino acid.\n"
   ],
   "cell_type": "markdown",
   "metadata": {}
  },
  {
   "source": [
    "### Exercise 5\n",
    "Using your dictionaries, write a function that detects whether a sequence is DNA or mRNA, locates the first start codon and the corresponding stop codon, and translates the sequence between the start and stop codon into an amino acid sequence. Hint: find the start codon, then break the following part of the sequence into codons to identify the stop codon."
   ],
   "cell_type": "markdown",
   "metadata": {}
  },
  {
   "cell_type": "code",
   "execution_count": null,
   "metadata": {},
   "outputs": [],
   "source": [
    "sequence = \"GTGCTCAATGGATAATACTGAGCTCGAGGTGGACTTCTATAGTTGCGTACACTCGATGAC\""
   ]
  },
  {
   "source": [
    "## Classes\n",
    "\n",
    "Classes, and the object-oriented programming paradigm that revolves around them, are an incredibly broad and deep topic that we don't have time to explore in great detail in this course. If you've made it this far with time to spare, have a go at the following exercise, referring to the [documentation](https://docs.python.org/3/tutorial/classes.html#a-first-look-at-classes) as needed."
   ],
   "cell_type": "markdown",
   "metadata": {}
  },
  {
   "source": [
    "### Exercise 6\n",
    "\n",
    " Starting with the functions and dictionaries you designed earlier, define a 'Sequence' class to represent a DNA sequence. Store the DNA sequence as a string instance variable, and define instance functions to convert the DNA sequence into mRNA, to identify start and stop codons, and to translate a region of mRNA into an amino acid sequene.\n",
    "\n",
    "Think about some other functions you might like to have in an object that represents a DNA sequence, and how best to implement them. For example:\n",
    "\n",
    "1. A function to cleave a sequence into two new sequences\n",
    "2. A function to merge two sequences into a single sequence\n",
    "3. A function to identify overlapping regions of two (or more!) sequences\n",
    "4. The option to perform protein translation in different reading frames"
   ],
   "cell_type": "markdown",
   "metadata": {}
  },
  {
   "source": [
    "If you're really speeding ahead, have a go at the following exercises!"
   ],
   "cell_type": "markdown",
   "metadata": {}
  },
  {
   "source": [
    "### Exercise 6 (Advanced)\n",
    "\n",
    "The standard for protein structure files is the PDB format. The PDB format contains the coordinates of the nucleus of each protein atom. On top of the coordinate information (points), the residue and atom symbol are also provided along with some numeric identifiers. You can find a description of a PDB file format on the document PDB_description.pdf. Bear in mind that PDB files present several sections and that this file describes only the ATOM section.\n",
    "\n",
    "A simplified version of a PDB file, Simple.pdb, and a description of the PDB file format, PDB_description.pdf, are available on Canvas. Download these, and upload Simple.pdb to Google Drive. Write a function that parses a PDB file, storing each atom as an entry in a dictionary (use the atom serial number, defined in PDB_description.pdf, as your dictionary keys)."
   ],
   "cell_type": "markdown",
   "metadata": {}
  },
  {
   "source": [
    "### Exercise 7 (Advanced)\n",
    "\n",
    "Choose a set of dictionary keys to represent the information about a residue (amino acid) found in a PDB file (residue name, atoms, coordinates, etc). Create a new dictionary that stores the contents of Simple.pdb as a set of residues, each of which is itself represented by a dictionary, using the residue numbers as your keys.\n"
   ],
   "cell_type": "markdown",
   "metadata": {}
  },
  {
   "source": [
    "### Exercise 8 (Advanced)\n",
    "Choose another set of dictionary keys to represent the information about an individual atom within a residue found in a PDB file (atom name, element symbol, coordinates, etc). Modify your residue dictionary so that it maps each atom in the residue to a dictionary representing that atom, then modify your PDB dictionary so that it maps each residue number to your new residue dictionary. You should now have a hierarchical representation of the protein that goes sequence -> residue -> atom."
   ],
   "cell_type": "markdown",
   "metadata": {}
  },
  {
   "source": [
    "### Exercise 9 (Very advanced)\n",
    "\n",
    "Starting with your PDB parsing code, and the resulting hierarchical representation of a protein structure, design a 'Protein' class to represent a protein structure such as that contained in the simplified PDB file. (Proteins often have multiple chains, and many PDB files contain 'biological assemblies' consisting of arrangements of multiple copies of the protein, or extra chains containing bound ligands. For now, focus on a single-chain protein.)\n",
    "\n",
    "First, define three classes:\n",
    "\n",
    "1. An 'Atom' class that represents an individual atom in a protein\n",
    "2. A 'Residue' class that represents a single residue in a protein \n",
    "3. A 'Chain' class that represents a single amino acid chain in a protein\n",
    "\n",
    "The Residue class should include a set of Atom objects representing the atoms of that residue. The Chain class should include a set of Residue objects representing the residues of the chain.\n",
    "\n",
    "Finally, define a 'Protein' class that has includes a single Chain object to represent the single chain we're looking at. Give your Protein class a function to set its attributes by parsing a PDB file; in this case, Simple.pdb.\n",
    "\n",
    "If you made it this far, think about how you might modify your Protein class to handle a protein with multiple chains, or a PDB file that contains other molecules. \n",
    "\n"
   ],
   "cell_type": "markdown",
   "metadata": {}
  },
  {
   "cell_type": "code",
   "execution_count": null,
   "metadata": {},
   "outputs": [],
   "source": []
  }
 ]
}