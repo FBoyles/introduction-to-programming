{
 "cells": [
  {
   "cell_type": "markdown",
   "metadata": {},
   "source": [
    "# Data Structures\n",
    "\n",
    "In this notebook, you will learn about storing structured data using dictionaries. If you finish early, the advanced exercises at the end of the notebook will get you thinking about classes, and how you might want to design your own data structure to create useful objects."
   ]
  },
  {
   "cell_type": "markdown",
   "metadata": {},
   "source": [
    "## Dictionaries\n",
    "\n",
    "Dictionaries consist of key-item pairs, where each key is a unique value that maps to another value."
   ]
  },
  {
   "cell_type": "code",
   "execution_count": 7,
   "metadata": {
    "tags": []
   },
   "outputs": [],
   "source": [
    "age  = {\"John\": 20, \"Marie\" : 22, \"Charlie\" : 24}"
   ]
  },
  {
   "cell_type": "markdown",
   "metadata": {},
   "source": [
    "You can access a value in a dictionary by indexing using the corresponding key."
   ]
  },
  {
   "cell_type": "code",
   "execution_count": 3,
   "metadata": {},
   "outputs": [
    {
     "data": {
      "text/plain": [
       "20"
      ]
     },
     "execution_count": 3,
     "metadata": {},
     "output_type": "execute_result"
    }
   ],
   "source": [
    "age['John']"
   ]
  },
  {
   "cell_type": "markdown",
   "metadata": {},
   "source": [
    "You can iterate over the keys in a dictionary, just like you would a list."
   ]
  },
  {
   "cell_type": "code",
   "execution_count": 4,
   "metadata": {
    "tags": []
   },
   "outputs": [
    {
     "name": "stdout",
     "output_type": "stream",
     "text": [
      "John 20\n",
      "Marie 22\n",
      "Charlie 24\n"
     ]
    }
   ],
   "source": [
    "for person in age:\n",
    "    print(person, age[person])"
   ]
  },
  {
   "cell_type": "markdown",
   "metadata": {},
   "source": [
    "You can add and remove entries to a dictionary. To add an item to the dictionary, we simply set the dictionary entry with a new key to the value we want. To remove an item, we use the 'del' keyword to remove the entry corresponding to a key."
   ]
  },
  {
   "cell_type": "code",
   "execution_count": 5,
   "metadata": {
    "tags": []
   },
   "outputs": [
    {
     "name": "stdout",
     "output_type": "stream",
     "text": [
      "Marie 22\n",
      "Charlie 24\n",
      "Amy 27\n"
     ]
    }
   ],
   "source": [
    "age['Amy'] = 27\n",
    "del age['John']\n",
    "for person in age:\n",
    "    print(person, age[person])"
   ]
  },
  {
   "cell_type": "markdown",
   "metadata": {},
   "source": [
    "The keys of a dictionary are ordered by insertion: the first item inserted is at the top, and so on. This is a relatively new feature, and is only guaranteed in Python 3.7 and above. For example, if we add John back into the dictionary, notice how he now appears last when iterating over the dictionary. Note that modifying an existing entry does not change the ordering."
   ]
  },
  {
   "cell_type": "code",
   "execution_count": 6,
   "metadata": {
    "tags": []
   },
   "outputs": [
    {
     "name": "stdout",
     "output_type": "stream",
     "text": [
      "Marie 22\n",
      "Charlie 24\n",
      "Amy 27\n",
      "John 20\n"
     ]
    }
   ],
   "source": [
    "age['John'] = 20\n",
    "for person in age:\n",
    "    print(person, age[person])"
   ]
  },
  {
   "cell_type": "markdown",
   "metadata": {},
   "source": [
    "Like any collection, we can check if a key is present in a dictionary. If we try to access an entry that does not exist, a KeyError is raised."
   ]
  },
  {
   "cell_type": "code",
   "execution_count": 11,
   "metadata": {
    "tags": []
   },
   "outputs": [
    {
     "name": "stdout",
     "output_type": "stream",
     "text": [
      "True False\n"
     ]
    },
    {
     "ename": "KeyError",
     "evalue": "'The Universe'",
     "output_type": "error",
     "traceback": [
      "\u001b[0;31m---------------------------------------------------------------------------\u001b[0m",
      "\u001b[0;31mKeyError\u001b[0m                                  Traceback (most recent call last)",
      "\u001b[0;32m<ipython-input-11-ed93325b473a>\u001b[0m in \u001b[0;36m<module>\u001b[0;34m\u001b[0m\n\u001b[1;32m      1\u001b[0m \u001b[0mprint\u001b[0m\u001b[0;34m(\u001b[0m\u001b[0;34m'John'\u001b[0m \u001b[0;32min\u001b[0m \u001b[0mage\u001b[0m\u001b[0;34m,\u001b[0m \u001b[0;34m'Charlie'\u001b[0m \u001b[0;32mnot\u001b[0m \u001b[0;32min\u001b[0m \u001b[0mage\u001b[0m\u001b[0;34m)\u001b[0m\u001b[0;34m\u001b[0m\u001b[0;34m\u001b[0m\u001b[0m\n\u001b[0;32m----> 2\u001b[0;31m \u001b[0mage\u001b[0m\u001b[0;34m[\u001b[0m\u001b[0;34m'The Universe'\u001b[0m\u001b[0;34m]\u001b[0m\u001b[0;34m\u001b[0m\u001b[0;34m\u001b[0m\u001b[0m\n\u001b[0m",
      "\u001b[0;31mKeyError\u001b[0m: 'The Universe'"
     ]
    }
   ],
   "source": [
    "print('John' in age, 'Charlie' not in age)\n",
    "age['The Universe']"
   ]
  },
  {
   "cell_type": "markdown",
   "metadata": {},
   "source": [
    "Dictionary keys can be any immutable type (e.g. ints, floats, strings, and even tuples), while values can be any type. Like a list, entries do not have to be of the same type. The values of a dictionary can even be another dictionary! This can be a powerful way of keeping track of heterogeneous data. For example, we might have a dictionary of personal details."
   ]
  },
  {
   "cell_type": "code",
   "execution_count": 17,
   "metadata": {},
   "outputs": [],
   "source": [
    "people = {}\n",
    "people['John'] = {'age': 20, 'height': 172, 'likes': ['Python', 'Dictionaries'], 'dislikes': ['Java', 'Ruby', 'Arrays'], 'favourite animal': 'python'}\n",
    "people['Amy'] = {'age': 27, 'height': 167, 'likes': ['Java'], 'dislikes': ['Python', 'John'], 'favourite colour': 'magenta', 'favourite sport': 'hockey'}"
   ]
  },
  {
   "cell_type": "code",
   "execution_count": 19,
   "metadata": {},
   "outputs": [
    {
     "data": {
      "text/plain": [
       "{'age': 20,\n",
       " 'height': 172,\n",
       " 'likes': ['Python', 'Dictionaries'],\n",
       " 'dislikes': ['Java', 'Ruby', 'Arrays'],\n",
       " 'favourite animal': 'python'}"
      ]
     },
     "execution_count": 19,
     "metadata": {},
     "output_type": "execute_result"
    }
   ],
   "source": [
    "people['John']"
   ]
  },
  {
   "cell_type": "code",
   "execution_count": 20,
   "metadata": {},
   "outputs": [
    {
     "data": {
      "text/plain": [
       "['Python', 'Dictionaries']"
      ]
     },
     "execution_count": 20,
     "metadata": {},
     "output_type": "execute_result"
    }
   ],
   "source": [
    "people['John']['likes']"
   ]
  },
  {
   "cell_type": "code",
   "execution_count": null,
   "metadata": {},
   "outputs": [],
   "source": []
  },
  {
   "cell_type": "markdown",
   "metadata": {},
   "source": [
    "### Exercise 1\n",
    "\n",
    "Download the file 'Blosum62.txt' from Canvas. This contains the Blosum62 matrix for amino acid substitutions where the i, j-th entry is the score associated with substituting amino acid i with amino acid j. Select a 4x4 subset of the matrix, including Alanine (A) and Glycine (G), and create a dictionary that will return the cost of substituting one amino acid for another. Verify that your dictionary returns the correct score for substituting Alanine for Glycine."
   ]
  },
  {
   "cell_type": "code",
   "execution_count": null,
   "metadata": {},
   "outputs": [],
   "source": [
    "blosum = {}\n",
    "\n",
    "blosum['A']['G']"
   ]
  },
  {
   "cell_type": "markdown",
   "metadata": {},
   "source": [
    "### Exercise 2 (Optional, but recommended)\n",
    "\n",
    "Load the contents of Blosum62.txt and, using a loop, create a dictionary to represent the entire Blosum62 matrix.\n"
   ]
  },
  {
   "cell_type": "markdown",
   "metadata": {},
   "source": [
    "### Exercise 3\n",
    "\n",
    "Download the file 'codon_table.txt' from Canvas. This contains the standard DNA codon - amino acid genetic code. Load the contents of this file and create a dictionary that maps each codon to the corresponding amino acid. Make sure the start and stop codons are mapped appropriately. Create a second dictionary that maps each amino acid to a tuple containing all codons that code that amino acid, again ensuring the start and stop codons are mapped appropriately."
   ]
  },
  {
   "cell_type": "markdown",
   "metadata": {},
   "source": [
    "### Exercise 4\n",
    "\n",
    "Referring back to Regex.ipynb from Lesson 5, create a dictionary that maps each DNA base to the corresponding mRNA base. Using this dictionary, write a function that transcribes a DNA sequence to an mRNA sequence. Using this dictionary and your dictionary from Exercise 3, write a piece of code to generate a dictionary that maps mRNA codons to their corresponding amino acid.\n"
   ]
  },
  {
   "cell_type": "markdown",
   "metadata": {},
   "source": [
    "### Exercise 5\n",
    "Using your dictionaries, write a function that detects whether a sequence is DNA or mRNA, locates the first start codon and the corresponding stop codon, and translates the sequence between the start and stop codon into an amino acid sequence. Hint: find the start codon, then break the following part of the sequence into codons to identify the stop codon."
   ]
  },
  {
   "cell_type": "code",
   "execution_count": null,
   "metadata": {},
   "outputs": [],
   "source": [
    "sequence = \"GTGCTCAATGGATAATACTGAGCTCGAGGTGGACTTCTATAGTTGCGTACACTCGATGAC\""
   ]
  },
  {
   "cell_type": "markdown",
   "metadata": {},
   "source": [
    "## Classes\n",
    "\n",
    "Referring back to Lesson 08 on multidimensional arrays and raster graphics, let's create a class to represent an image. If you've made it this far with time to spare, have a go at the following exercise, referring to the [documentation](https://docs.python.org/3/tutorial/classes.html#a-first-look-at-classes) as needed."
   ]
  },
  {
   "cell_type": "markdown",
   "metadata": {},
   "source": [
    "### Exercise 6\n",
    "\n",
    "Here is a template for a class to represent a PBM image. Complete the init function so that when passed the magic number, title, dimensions, and pixels for a PBM image, it assigns each of these to an instance variable in the class. Modify your class so that you can create an empty instance of PBMImage by not passing any arguments.\n",
    "\n",
    "Using your code from Lesson08, load feep.pbm and use the values to create an instance of PBMImage."
   ]
  },
  {
   "cell_type": "code",
   "execution_count": 1,
   "metadata": {},
   "outputs": [],
   "source": [
    "class PBMImage:\n",
    "    \n",
    "    def __init__(self, magic_number, title, dimensions, pixels):\n",
    "        pass"
   ]
  },
  {
   "cell_type": "markdown",
   "metadata": {},
   "source": [
    "### Exercise 7\n",
    "\n",
    "Give your class an instance method which reads a .pbm file and sets the instance variables to the values taken from the file."
   ]
  },
  {
   "cell_type": "markdown",
   "metadata": {},
   "source": [
    "### Exercise 8\n",
    "\n",
    "Give your class an instance method which writes a correctly-formatted .pdb file to a user-specified file name."
   ]
  },
  {
   "cell_type": "markdown",
   "metadata": {},
   "source": [
    "### Exercise 9\n",
    "\n",
    "Give your class an instance method which prints an informative message about the type and dimensions of the image."
   ]
  },
  {
   "cell_type": "markdown",
   "metadata": {},
   "source": [
    "### Exercise 10\n",
    "\n",
    "Give your class an instance method which computes the histogram of the image and returns the result. "
   ]
  },
  {
   "cell_type": "markdown",
   "metadata": {},
   "source": [
    "### Exercise 11\n",
    "\n",
    "Give your class an instance method which inverts the PDB image and returns the result as a new instance of BPMImage."
   ]
  },
  {
   "cell_type": "markdown",
   "metadata": {},
   "source": [
    "### Exercise 12\n",
    "\n",
    "The \\_\\_str\\_\\_(self) instance method is used to tell Python how to represent a class as a string, allowing you to print a meaningful representation of your class. Give your class a \\_\\_str\\_\\_(self) method which converts the PBM image into a human-readable string and returns the result. You could simply use the same format as the image file, or you might choose to omit the pixels and simply describe the format of the image. Check that you can print your class."
   ]
  }
 ],
 "metadata": {
  "kernelspec": {
   "display_name": "Python 3",
   "language": "python",
   "name": "python3"
  },
  "language_info": {
   "codemirror_mode": {
    "name": "ipython",
    "version": 3
   },
   "file_extension": ".py",
   "mimetype": "text/x-python",
   "name": "python",
   "nbconvert_exporter": "python",
   "pygments_lexer": "ipython3",
   "version": "3.8.3"
  }
 },
 "nbformat": 4,
 "nbformat_minor": 2
}
